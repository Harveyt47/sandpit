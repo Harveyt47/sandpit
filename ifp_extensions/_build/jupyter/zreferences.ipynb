{
 "cells": [
  {
   "cell_type": "markdown",
   "metadata": {},
   "source": [
    "\n",
    "<a id='references'></a>"
   ]
  },
  {
   "cell_type": "markdown",
   "metadata": {},
   "source": [
    "# References\n",
    "\n",
    "<a id='aiyagari1994'></a>\n",
    "\\[Aiy94\\] S Rao Aiyagari. Uninsured Idiosyncratic Risk and Aggregate Saving. *The Quarterly Journal of Economics*, 109(3):659–684, 1994.\n",
    "\n",
    "<a id='coleman1990'></a>\n",
    "\\[Col90\\] Wilbur John Coleman. Solving the Stochastic Growth Model by Policy-Function Iteration. *Journal of Business & Economic Statistics*, 8(1):27–29, 1990.\n",
    "\n",
    "<a id='deaton1991'></a>\n",
    "\\[Dea91\\] Angus Deaton. Saving and Liquidity Constraints. *Econometrica*, 59(5):1221–1248, 1991.\n",
    "\n",
    "<a id='denhaan2010'></a>\n",
    "\\[DH10\\] Wouter J Den Haan. Comparison of solutions to the incomplete markets model with aggregate uncertainty. *Journal of Economic Dynamics and Control*, 34(1):4–27, 2010.\n",
    "\n",
    "<a id='hopenhaynprescott1992'></a>\n",
    "\\[HP92\\] Hugo A Hopenhayn and Edward C Prescott. Stochastic Monotonicity and Stationary Distributions for Dynamic Economies. *Econometrica*, 60(6):1387–1406, 1992.\n",
    "\n",
    "<a id='huggett1993'></a>\n",
    "\\[Hug93\\] Mark Huggett. The risk-free rate in heterogeneous-agent incomplete-insurance economies. *Journal of Economic Dynamics and Control*, 17(5-6):953–969, 1993.\n",
    "\n",
    "<a id='kuhn2013'></a>\n",
    "\\[Kuh13\\] Moritz Kuhn. Recursive Equilibria In An Aiyagari-Style Economy With Permanent Income Shocks. *International Economic Review*, 54:807–835, 2013.\n",
    "\n",
    "<a id='ljungqvist2012'></a>\n",
    "\\[LS18\\] L Ljungqvist and T J Sargent. *Recursive Macroeconomic Theory*. MIT Press, 4 edition, 2018.\n",
    "\n",
    "<a id='rabault2002'></a>\n",
    "\\[Rab02\\] Guillaume Rabault. When do borrowing constraints bind? Some new results on the income fluctuation problem. *Journal of Economic Dynamics and Control*, 26(2):217–245, 2002.\n",
    "\n",
    "<a id='reiter2009'></a>\n",
    "\\[Rei09\\] Michael Reiter. Solving heterogeneous-agent models by projection and perturbation. *Journal of Economic Dynamics and Control*, 33(3):649–665, 2009.\n",
    "\n",
    "<a id='schechtmanescudero1977'></a>\n",
    "\\[SE77\\] Jack Schechtman and Vera L S Escudero. Some results on an income fluctuation problem. *Journal of Economic Theory*, 16(2):151–166, 1977."
   ]
  }
 ],
 "metadata": {
  "date": 1583965317.7788754,
  "filename": "zreferences.rst",
  "kernelspec": {
   "display_name": "Python",
   "language": "python3",
   "name": "python3"
  },
  "title": "References"
 },
 "nbformat": 4,
 "nbformat_minor": 4
}