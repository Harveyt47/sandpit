{
 "cells": [
  {
   "cell_type": "markdown",
   "metadata": {},
   "source": [
    "\n",
    "<a id='references'></a>"
   ]
  },
  {
   "cell_type": "markdown",
   "metadata": {},
   "source": [
    "# References\n",
    "\n",
    "<a id='aiyagari1994'></a>\n",
    "\\[Aiy94\\] S Rao Aiyagari. Uninsured Idiosyncratic Risk and Aggregate Saving. *The Quarterly Journal of Economics*, 109(3):659–684, 1994.\n",
    "\n",
    "<a id='benhabib2015'></a>\n",
    "\\[BBZ15\\] Jess Benhabib, Alberto Bisin, and Shenghao Zhu. The wealth distribution in bewley economies with capital income risk. *Journal of Economic Theory*, 159:489–515, 2015.\n",
    "\n",
    "<a id='cao2016existence'></a>\n",
    "\\[Cao16\\] Dan Cao. Existence of generalized recursive equilibrium in krusell and smith (1998). *SSRN Scholarly Paper ID*, 2016.\n",
    "\n",
    "<a id='coleman1990'></a>\n",
    "\\[Col90\\] Wilbur John Coleman. Solving the Stochastic Growth Model by Policy-Function Iteration. *Journal of Business & Economic Statistics*, 8(1):27–29, 1990.\n",
    "\n",
    "<a id='deaton1991'></a>\n",
    "\\[Dea91\\] Angus Deaton. Saving and Liquidity Constraints. *Econometrica*, 59(5):1221–1248, 1991.\n",
    "\n",
    "<a id='denhaan2010'></a>\n",
    "\\[DH10\\] Wouter J Den Haan. Comparison of solutions to the incomplete markets model with aggregate uncertainty. *Journal of Economic Dynamics and Control*, 34(1):4–27, 2010.\n",
    "\n",
    "<a id='hills2018fiscal'></a>\n",
    "\\[HN18\\] Timothy S. Hills and Taisuke Nakata. Fiscal multipliers at the zero lower bound: the role of policy inertia. *Journal of Money, Credit and Banking*, 50(1):155–172, 2018.\n",
    "\n",
    "<a id='hopenhaynprescott1992'></a>\n",
    "\\[HP92\\] Hugo A Hopenhayn and Edward C Prescott. Stochastic Monotonicity and Stationary Distributions for Dynamic Economies. *Econometrica*, 60(6):1387–1406, 1992.\n",
    "\n",
    "<a id='hubmer2018comprehensive'></a>\n",
    "\\[HKSJ18\\] Joachim Hubmer, Per Krusell, and Anthony A Smith Jr. A comprehensive quantitative theory of the us wealth distribution. Technical Report, Yale, 2018.\n",
    "\n",
    "<a id='huggett1993'></a>\n",
    "\\[Hug93\\] Mark Huggett. The risk-free rate in heterogeneous-agent incomplete-insurance economies. *Journal of Economic Dynamics and Control*, 17(5-6):953–969, 1993.\n",
    "\n",
    "<a id='krusell1998income'></a>\n",
    "\\[KS98\\] Per Krusell and Anthony A Smith, Jr. Income and wealth heterogeneity in the macroeconomy. *Journal of political Economy*, 106(5):867–896, 1998.\n",
    "\n",
    "<a id='kuhn2013'></a>\n",
    "\\[Kuh13\\] Moritz Kuhn. Recursive Equilibria In An Aiyagari-Style Economy With Permanent Income Shocks. *International Economic Review*, 54:807–835, 2013.\n",
    "\n",
    "<a id='ljungqvist2012'></a>\n",
    "\\[LS18\\] L Ljungqvist and T J Sargent. *Recursive Macroeconomic Theory*. MIT Press, 4 edition, 2018.\n",
    "\n",
    "<a id='ma2020income'></a>\n",
    "\\[MST20\\] Qingyin Ma, John Stachurski, and Alexis Akira Toda. The income fluctuation problem and the evolution of wealth. *Journal of Economic Theory*, 187:105003, 2020.\n",
    "\n",
    "<a id='rabault2002'></a>\n",
    "\\[Rab02\\] Guillaume Rabault. When do borrowing constraints bind? Some new results on the income fluctuation problem. *Journal of Economic Dynamics and Control*, 26(2):217–245, 2002.\n",
    "\n",
    "<a id='reiter2009'></a>\n",
    "\\[Rei09\\] Michael Reiter. Solving heterogeneous-agent models by projection and perturbation. *Journal of Economic Dynamics and Control*, 33(3):649–665, 2009.\n",
    "\n",
    "<a id='schechtmanescudero1977'></a>\n",
    "\\[SE77\\] Jack Schechtman and Vera L S Escudero. Some results on an income fluctuation problem. *Journal of Economic Theory*, 16(2):151–166, 1977."
   ]
  }
 ],
 "metadata": {
  "date": 1584213674.181448,
  "filename": "zreferences.rst",
  "kernelspec": {
   "display_name": "Python",
   "language": "python3",
   "name": "python3"
  },
  "title": "References"
 },
 "nbformat": 4,
 "nbformat_minor": 4
}