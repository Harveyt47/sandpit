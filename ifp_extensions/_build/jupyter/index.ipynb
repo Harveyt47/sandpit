{
 "cells": [
  {
   "cell_type": "markdown",
   "metadata": {},
   "source": [
    "# Welcome to ifp’s documentation!\n",
    "\n",
    "# Contents:\n",
    "- [The Income Fluctuation Problem](ifp.ipynb)\n",
    "  - [Overview](ifp.ipynb#overview)\n",
    "  - [The Optimal Savings Problem](ifp.ipynb#the-optimal-savings-problem)\n",
    "  - [Computation](ifp.ipynb#computation)\n",
    "  - [Exercises](ifp.ipynb#exercises)\n",
    "  - [Solutions](ifp.ipynb#solutions)\n",
    "- [The Income Fluctuation Problem with Stochastic Returns and Discounting](ifp_advanced.ipynb)\n",
    "  - [Overview](ifp_advanced.ipynb#overview)\n",
    "  - [The Household Problem](ifp_advanced.ipynb#the-household-problem)\n",
    "  - [Solution Algorithm](ifp_advanced.ipynb#solution-algorithm)\n",
    "  - [Implementation](ifp_advanced.ipynb#implementation)\n",
    "  - [Exercises](ifp_advanced.ipynb#exercises)"
   ]
  },
  {
   "cell_type": "markdown",
   "metadata": {},
   "source": [
    "# Indices and tables\n",
    "\n",
    "- [Index](genindex.ipynb)  \n",
    "- [Module Index](py-modindex.ipynb)  \n",
    "- [Search Page](search.ipynb)  "
   ]
  }
 ],
 "metadata": {
  "date": 1584221140.1738226,
  "filename": "index.rst",
  "kernelspec": {
   "display_name": "Python",
   "language": "python3",
   "name": "python3"
  },
  "title": "Welcome to ifp’s documentation!"
 },
 "nbformat": 4,
 "nbformat_minor": 4
}