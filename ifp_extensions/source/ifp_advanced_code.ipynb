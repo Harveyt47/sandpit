{
 "cells": [
  {
   "cell_type": "code",
   "execution_count": 1,
   "metadata": {},
   "outputs": [],
   "source": [
    "import numpy as np\n",
    "import matplotlib.pyplot as plt\n",
    "from interpolation import interp\n",
    "from numba import jit, njit, jitclass, prange, float64\n",
    "from quantecon.optimize.root_finding import brentq\n",
    "\n",
    "%matplotlib inline"
   ]
  },
  {
   "cell_type": "code",
   "execution_count": 2,
   "metadata": {},
   "outputs": [],
   "source": [
    "ifp_data = [\n",
    "    ('γ', float64),              # Utility parameter \n",
    "    ('β', float64),              # Discount factor\n",
    "    ('P', float64[:, :]),        # Transition probs for z_t\n",
    "    ('σ_vec', float64[:]),       # Shock scale parameters for R_t\n",
    "    ('s', float64),              # Shock scale parameter for Y_t\n",
    "    ('a_grid', float64[:]),      # Grid over asset values (array)\n",
    "    ('η_draws', float64[:]),     # Draws of innovation η for MC (array)\n",
    "    ('ζ_draws', float64[:])      # Draws of innovation ζ for MC (array)\n",
    "]"
   ]
  },
  {
   "cell_type": "code",
   "execution_count": 3,
   "metadata": {
    "hide-output": false
   },
   "outputs": [],
   "source": [
    "@jitclass(ifp_data)\n",
    "class IFP:\n",
    "    \"\"\"\n",
    "    A class that stores primitives for the income fluctuation \n",
    "    problem. \n",
    "    \"\"\"\n",
    "    def __init__(self,\n",
    "                 γ=2.5,                        \n",
    "                 β=0.96,\n",
    "                 P=np.array([(0.8, 0.2), \n",
    "                             (0.7, 0.3)]),\n",
    "                 σ_vec=np.array((0.0, 0.5)),\n",
    "                 s=0.5,\n",
    "                 shock_draw_size=400,\n",
    "                 grid_max=10,\n",
    "                 grid_size=20):\n",
    "        \n",
    "        np.random.seed(1234)  # arbitrary seed\n",
    "\n",
    "        self.γ, self.β = γ, β\n",
    "        self.P, self.σ_vec, self.s = P, σ_vec, s\n",
    "        self.η_draws = np.random.randn(shock_draw_size)\n",
    "        self.ζ_draws = np.random.randn(shock_draw_size)\n",
    "        self.a_grid = np.linspace(0, grid_max, grid_size)\n",
    "        \n",
    "    # Marginal utility    \n",
    "    def u_prime(self, c):\n",
    "        return c**(-self.γ)\n",
    "    \n",
    "    def R(self, z, ζ):\n",
    "        return np.exp(self.σ_vec[z] * ζ)\n",
    "    \n",
    "    def Y(self, η):\n",
    "        return np.exp(self.s * η)"
   ]
  },
  {
   "cell_type": "code",
   "execution_count": 4,
   "metadata": {
    "hide-output": false
   },
   "outputs": [],
   "source": [
    "@njit\n",
    "def euler_diff(t, c_vec, a, z, ifp):\n",
    "    \"\"\"\n",
    "    The difference of the left-hand side and the right-hand side\n",
    "    of the Euler Equation, given a policy represented by c_vec.\n",
    "    \"\"\"\n",
    "    # Simplify names\n",
    "    u_prime, R, Y, P = ifp.u_prime, ifp.R, ifp.Y, ifp.P\n",
    "    a_grid, η_draws, ζ_draws = ifp.a_grid, ifp.η_draws, ifp.η_draws\n",
    "    β = ifp.β\n",
    "    \n",
    "    # Create consumption function a -> c(a, z) by linear interpolation\n",
    "    c = lambda a, z: interp(a_grid, c_vec[:, z], a)\n",
    "    \n",
    "    # Compute expectation on right hand side by Monte Carlo\n",
    "    Ez = 0.0\n",
    "    for z_hat in (0, 1):\n",
    "        for η in ifp.η_draws:\n",
    "            for ζ in ifp.ζ_draws:\n",
    "                \n",
    "                R_hat = R(z_hat, ζ)\n",
    "                Y_hat = Y(η)\n",
    "                \n",
    "                Ez += R_hat * \\\n",
    "                      u_prime(c(R_hat * (a - t) + Y_hat, z_hat)) * \\\n",
    "                      P[z, z_hat]\n",
    "                \n",
    "    Ez = Ez / (len(η_draws) * len(ζ_draws))\n",
    "\n",
    "    return u_prime(t) - max(β * Ez, u_prime(a))"
   ]
  },
  {
   "cell_type": "code",
   "execution_count": 5,
   "metadata": {},
   "outputs": [],
   "source": [
    "ifp = IFP()\n",
    "# Initial guess of c_vec = consume all assets\n",
    "n = len(ifp.a_grid)\n",
    "c_init = np.ones((n, 2))\n",
    "for z in 0, 1:\n",
    "    c_init[:, z] = ifp.a_grid"
   ]
  },
  {
   "cell_type": "code",
   "execution_count": null,
   "metadata": {},
   "outputs": [],
   "source": [
    "a = 1.0\n",
    "t = 0.99 * a\n",
    "z = 1"
   ]
  },
  {
   "cell_type": "code",
   "execution_count": 16,
   "metadata": {
    "scrolled": true
   },
   "outputs": [
    {
     "name": "stdout",
     "output_type": "stream",
     "text": [
      "CPU times: user 44.9 ms, sys: 0 ns, total: 44.9 ms\n",
      "Wall time: 44.7 ms\n"
     ]
    },
    {
     "data": {
      "text/plain": [
       "-0.9003939231781253"
      ]
     },
     "execution_count": 16,
     "metadata": {},
     "output_type": "execute_result"
    }
   ],
   "source": [
    "%%time \n",
    "\n",
    "euler_diff(t, c_init, a, z, ifp)"
   ]
  },
  {
   "cell_type": "code",
   "execution_count": 17,
   "metadata": {},
   "outputs": [
    {
     "name": "stdout",
     "output_type": "stream",
     "text": [
      "CPU times: user 419 ms, sys: 0 ns, total: 419 ms\n",
      "Wall time: 418 ms\n"
     ]
    },
    {
     "data": {
      "text/plain": [
       "0.90603160583869"
      ]
     },
     "execution_count": 17,
     "metadata": {},
     "output_type": "execute_result"
    }
   ],
   "source": [
    "%%time\n",
    "\n",
    "brentq(euler_diff, 1e-10, a, args=(c_init, a, z, ifp)).root"
   ]
  },
  {
   "cell_type": "code",
   "execution_count": 13,
   "metadata": {
    "hide-output": false
   },
   "outputs": [],
   "source": [
    "def K(c_vec, ifp):\n",
    "    \"\"\"\n",
    "    The operator K.\n",
    "\n",
    "    Iteration with this operator corresponds to time iteration on the\n",
    "    Euler equation.  Computes and returns the updated consumption \n",
    "    policy values on the grid pairs (a, z).\n",
    "\n",
    "    \"\"\"\n",
    "    c_new = np.empty_like(c_vec)\n",
    "    for i in range(len(ifp.a_grid)):\n",
    "        a = ifp.a_grid[i]\n",
    "        for z in 0, 1:\n",
    "            c_star = brentq(euler_diff, 1e-10, a, \n",
    "                            args=(c_vec, a, z, ifp),\n",
    "                            maxiter=12,\n",
    "                            disp=False)\n",
    "            c_new[i, z] = c_star.root\n",
    "\n",
    "    return c_new\n"
   ]
  },
  {
   "cell_type": "code",
   "execution_count": 15,
   "metadata": {},
   "outputs": [
    {
     "name": "stdout",
     "output_type": "stream",
     "text": [
      "CPU times: user 19.7 s, sys: 9.96 ms, total: 19.7 s\n",
      "Wall time: 19.7 s\n"
     ]
    },
    {
     "data": {
      "text/plain": [
       "array([[0.        , 0.        ],\n",
       "       [0.52631579, 0.52631579],\n",
       "       [0.93728521, 0.93736246],\n",
       "       [1.23606604, 1.23718619],\n",
       "       [1.52229523, 1.52381684],\n",
       "       [1.80220421, 1.80377159],\n",
       "       [2.07826035, 2.07963443],\n",
       "       [2.3517228 , 2.35272717],\n",
       "       [2.62332499, 2.62382237],\n",
       "       [2.89353195, 2.89341161],\n",
       "       [0.        , 0.        ],\n",
       "       [0.        , 0.        ],\n",
       "       [0.        , 0.        ],\n",
       "       [0.        , 0.        ],\n",
       "       [0.        , 0.        ],\n",
       "       [0.        , 0.        ],\n",
       "       [0.        , 0.        ],\n",
       "       [5.02768988, 5.01944975],\n",
       "       [0.        , 0.        ],\n",
       "       [5.55530451, 5.54355308]])"
      ]
     },
     "execution_count": 15,
     "metadata": {},
     "output_type": "execute_result"
    }
   ],
   "source": [
    "%%time\n",
    "\n",
    "K(c_init, ifp)"
   ]
  },
  {
   "cell_type": "code",
   "execution_count": 10,
   "metadata": {
    "hide-output": false
   },
   "outputs": [],
   "source": [
    "def solve_model(ifp,\n",
    "                tol=1e-3,\n",
    "                max_iter=100,\n",
    "                verbose=True,\n",
    "                print_skip=4):\n",
    "\n",
    "    \"\"\"\n",
    "    Solves for the optimal policy using time iteration\n",
    "\n",
    "    * ifp is an instance of ConsumerProblem\n",
    "    \"\"\"\n",
    "\n",
    "\n",
    "    # Initial guess of c_vec = consume all assets\n",
    "    n = len(ifp.a_grid)\n",
    "    c_init = np.ones((n, 2))\n",
    "    for z in 0, 1:\n",
    "        c_init[:, z] = ifp.a_grid\n",
    "\n",
    "    i = 0\n",
    "    error = tol + 1\n",
    "    c = c_init\n",
    "\n",
    "    while i < max_iter and error > tol:\n",
    "        c_new = K(c, ifp)\n",
    "        error = np.max(np.abs(c - c_new))\n",
    "        i += 1\n",
    "        if verbose and i % print_skip == 0:\n",
    "            print(f\"Error at iteration {i} is {error}.\")\n",
    "        c = c_new\n",
    "\n",
    "    if i == max_iter:\n",
    "        print(\"Failed to converge!\")\n",
    "\n",
    "    if verbose and i < max_iter:\n",
    "        print(f\"\\nConverged in {i} iterations.\")\n",
    "\n",
    "    return c_new"
   ]
  },
  {
   "cell_type": "code",
   "execution_count": 11,
   "metadata": {
    "hide-output": false
   },
   "outputs": [
    {
     "name": "stdout",
     "output_type": "stream",
     "text": [
      "Error at iteration 4 is 0.43559352436746224.\n",
      "Error at iteration 8 is 0.11487958941087406.\n",
      "Error at iteration 12 is 0.05021667036419597.\n",
      "Error at iteration 16 is 0.02719619562594633.\n",
      "Error at iteration 20 is 0.016585744844914485.\n",
      "Error at iteration 24 is 0.010888713475715184.\n",
      "Error at iteration 28 is 0.00750598280201209.\n",
      "Error at iteration 32 is 0.005355319915721246.\n",
      "Error at iteration 36 is 0.003919287274138483.\n",
      "Error at iteration 40 is 0.002922454497051641.\n",
      "Error at iteration 44 is 0.0022101408940478073.\n",
      "Error at iteration 48 is 0.0016897538165097092.\n",
      "Error at iteration 52 is 0.0013028672889148218.\n",
      "Error at iteration 56 is 0.0010110675120353907.\n",
      "Error at iteration 60 is 0.0007886269182983963.\n",
      "Error at iteration 64 is 0.0006175870722961996.\n",
      "Error at iteration 68 is 0.00048520068267987604.\n",
      "Error at iteration 72 is 0.00038212525710035194.\n",
      "Error at iteration 76 is 0.00030153083595307884.\n",
      "Error at iteration 80 is 0.00023830798264135034.\n",
      "Error at iteration 84 is 0.0001885713168323644.\n",
      "Error at iteration 88 is 0.00014936114438657278.\n",
      "Error at iteration 92 is 0.00011839780076083883.\n",
      "\n",
      "Converged in 95 iterations.\n"
     ]
    }
   ],
   "source": [
    "ifp = IFP()\n",
    "c_star = solve_model(ifp)"
   ]
  },
  {
   "cell_type": "markdown",
   "metadata": {},
   "source": [
    "Plot consumption policy"
   ]
  },
  {
   "cell_type": "code",
   "execution_count": 12,
   "metadata": {
    "hide-output": false
   },
   "outputs": [
    {
     "data": {
      "image/png": "[encoded data removed]",
      "text/plain": [
       "<Figure size 432x288 with 1 Axes>"
      ]
     },
     "metadata": {
      "needs_background": "light"
     },
     "output_type": "display_data"
    }
   ],
   "source": [
    "fig, ax = plt.subplots()\n",
    "\n",
    "for z in 0, 1:\n",
    "    ax.plot(ifp.a_grid, c_star[:, z], label=f'$a \\mapsto c(a, {z})$')\n",
    "    \n",
    "ax.set(xlabel='asset level', ylabel='optimal consumption')\n",
    "ax.legend()\n",
    "plt.show()"
   ]
  },
  {
   "cell_type": "markdown",
   "metadata": {},
   "source": [
    "Plot expected asset change"
   ]
  },
  {
   "cell_type": "code",
   "execution_count": null,
   "metadata": {
    "hide-output": false
   },
   "outputs": [],
   "source": [
    "fig, ax = plt.subplots()\n",
    "\n",
    "a = ifp.a_grid\n",
    "\n",
    "for z in 0, 1:\n",
    "    \n",
    "    ax.plot(a, c_star[:, z], label=f'$a \\mapsto c(a, {z})$')\n",
    "    \n",
    "ax.set(xlabel='asset level', ylabel='optimal consumption')\n",
    "ax.legend()\n",
    "plt.show()"
   ]
  },
  {
   "cell_type": "markdown",
   "metadata": {},
   "source": [
    "## Solutions"
   ]
  },
  {
   "cell_type": "markdown",
   "metadata": {},
   "source": [
    "### Exercise 1"
   ]
  },
  {
   "cell_type": "code",
   "execution_count": null,
   "metadata": {
    "hide-output": false
   },
   "outputs": [],
   "source": [
    "r_vals = np.linspace(0, 0.04, 4)\n",
    "\n",
    "fig, ax = plt.subplots(figsize=(10, 8))\n",
    "for r_val in r_vals:\n",
    "    cp = ConsumerProblem(r=r_val)\n",
    "    σ_star = solve_model(cp, verbose=False)\n",
    "    ax.plot(cp.asset_grid, σ_star[:, 0], label=f'$r = {r_val:.3f}$')\n",
    "\n",
    "ax.set(xlabel='asset level', ylabel='consumption (low income)')\n",
    "ax.legend()\n",
    "plt.show()"
   ]
  },
  {
   "cell_type": "markdown",
   "metadata": {},
   "source": [
    "### Exercise 2"
   ]
  },
  {
   "cell_type": "code",
   "execution_count": null,
   "metadata": {
    "hide-output": false
   },
   "outputs": [],
   "source": [
    "def compute_asset_series(cp, T=500000, verbose=False):\n",
    "    \"\"\"\n",
    "    Simulates a time series of length T for assets, given optimal\n",
    "    savings behavior.\n",
    "\n",
    "    cp is an instance of ConsumerProblem\n",
    "    \"\"\"\n",
    "    Π, z_vals, R = cp.Π, cp.z_vals, cp.R  # Simplify names\n",
    "    mc = MarkovChain(Π)\n",
    "    σ_star = solve_model(cp, verbose=False)\n",
    "    cf = lambda a, i_z: interp(cp.asset_grid, σ_star[:, i_z], a)\n",
    "    a = np.zeros(T+1)\n",
    "    z_seq = mc.simulate(T)\n",
    "    for t in range(T):\n",
    "        i_z = z_seq[t]\n",
    "        a[t+1] = R * a[t] + z_vals[i_z] - cf(a[t], i_z)\n",
    "    return a\n",
    "\n",
    "cp = ConsumerProblem(r=0.03, grid_max=4)\n",
    "a = compute_asset_series(cp)\n",
    "\n",
    "fig, ax = plt.subplots(figsize=(10, 8))\n",
    "ax.hist(a, bins=20, alpha=0.5, density=True)\n",
    "ax.set(xlabel='assets', xlim=(-0.05, 0.75))\n",
    "plt.show()"
   ]
  },
  {
   "cell_type": "markdown",
   "metadata": {},
   "source": [
    "### Exercise 3"
   ]
  },
  {
   "cell_type": "code",
   "execution_count": null,
   "metadata": {
    "hide-output": false
   },
   "outputs": [],
   "source": [
    "M = 25\n",
    "r_vals = np.linspace(0, 0.04, M)\n",
    "fig, ax = plt.subplots(figsize=(10, 8))\n",
    "\n",
    "for b in (1, 3):\n",
    "    asset_mean = []\n",
    "    for r_val in r_vals:\n",
    "        cp = ConsumerProblem(r=r_val, b=b)\n",
    "        mean = np.mean(compute_asset_series(cp, T=250000))\n",
    "        asset_mean.append(mean)\n",
    "    ax.plot(asset_mean, r_vals, label=f'$b = {b:d}$')\n",
    "    print(f\"Finished iteration b = {b:d}\")\n",
    "\n",
    "ax.set(xlabel='capital', ylabel='interest rate')\n",
    "ax.grid()\n",
    "ax.legend()\n",
    "plt.show()"
   ]
  }
 ],
 "metadata": {
  "date": 1584046196.0192049,
  "filename": "ifp.rst",
  "kernelspec": {
   "display_name": "Python 3",
   "language": "python",
   "name": "python3"
  },
  "language_info": {
   "codemirror_mode": {
    "name": "ipython",
    "version": 3
   },
   "file_extension": ".py",
   "mimetype": "text/x-python",
   "name": "python",
   "nbconvert_exporter": "python",
   "pygments_lexer": "ipython3",
   "version": "3.7.4"
  },
  "title": "The Income Fluctuation Problem"
 },
 "nbformat": 4,
 "nbformat_minor": 2
}
