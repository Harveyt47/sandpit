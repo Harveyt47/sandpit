{
 "cells": [
  {
   "cell_type": "markdown",
   "metadata": {},
   "source": [
    "## Wealth Distributions\n",
    "\n",
    "### Constant Savings Rate, Impact of Volatility"
   ]
  },
  {
   "cell_type": "code",
   "execution_count": 1,
   "metadata": {},
   "outputs": [
    {
     "name": "stderr",
     "output_type": "stream",
     "text": [
      "/home/john/anaconda3/lib/python3.6/site-packages/statsmodels/compat/pandas.py:56: FutureWarning: The pandas.core.datetools module is deprecated and will be removed in a future version. Please use the pandas.tseries module instead.\n",
      "  from pandas.core import datetools\n"
     ]
    }
   ],
   "source": [
    "import numpy as np\n",
    "from numba import jit, njit, prange\n",
    "import matplotlib.pyplot as plt\n",
    "import statsmodels.api as sm\n",
    " "
   ]
  },
  {
   "cell_type": "markdown",
   "metadata": {},
   "source": [
    "### Dynamics"
   ]
  },
  {
   "cell_type": "markdown",
   "metadata": {},
   "source": [
    "The model is\n",
    "\n",
    "$$ w_{t+1} = R_{t+1} s_0 w_t + y_{t+1} $$\n",
    "\n",
    "where\n",
    "\n",
    "* $w_t$ is wealth at time $t$ for a given household,\n",
    "* $R_t$ is the gross rate of return of financial assets,\n",
    "* $y_t$ is current non-financial (e.g., labor) income and\n",
    "* $s_0$ is a savings rate\n",
    "\n",
    "\n",
    "Letting $\\{z_t\\}$ be a correlated state process of the form\n",
    "\n",
    "$$ z_{t+1} = \\rho z_t + (1 - \\rho^2)^{1/2} \\epsilon_{t+1} $$\n",
    "\n",
    "we'll assume that\n",
    "\n",
    "$$ \\ln R_t = \\mu_r + c_r \\exp(z_t) \\xi_t $$\n",
    "\n",
    "and \n",
    "\n",
    "$$ y_t = c_y \\exp(z_t) + \\exp(\\mu_y + \\sigma_y \\zeta_t) $$\n",
    "\n",
    "Here $\\{ (\\epsilon_t, \\xi_t, \\zeta_t) \\}$ is IID and standard normal in $\\mathbb R^3$.\n"
   ]
  },
  {
   "cell_type": "code",
   "execution_count": 2,
   "metadata": {},
   "outputs": [],
   "source": [
    "class WealthDynamics:\n",
    "    \n",
    "    def __init__(self,\n",
    "                 s_0=0.8,    # savings parameter\n",
    "                 c_y=0.0,     # labor income parameter\n",
    "                 μ_y=1.5,     # labor income paraemter\n",
    "                 σ_y=0.2,     # labor income parameter\n",
    "                 μ_r=0.0,     # rate of return parameter\n",
    "                 c_r=0.035,     # rate of return parameter\n",
    "                 ρ=0.1):      # z shock correlation\n",
    "    \n",
    "        # Boilerplate\n",
    "        self.s_0 = s_0\n",
    "        self.c_y, self.μ_y, self.σ_y = c_y, μ_y, σ_y\n",
    "        self.c_r, self.μ_r = c_r, μ_r\n",
    "        self.ρ = ρ\n",
    "        \n",
    "        # Compute stationary mean for R and y by MC\n",
    "        self.R_mean, self.y_mean = self.compute_stationary_means()\n",
    "        \n",
    "        # Test stability condition, compute estimate of the stationary\n",
    "        # mean of w_t\n",
    "        α = self.R_mean * self.s_0\n",
    "        if α < 1:\n",
    "            print(f\"Generated instance with stability coefficient α = {α}\")\n",
    "        else:\n",
    "            raise ValueError(f\"Stability condition failed with α = {α}\")\n",
    "         \n",
    "    def parameters(self):\n",
    "        \"\"\"\n",
    "        Collect and return parameters.\n",
    "        \"\"\"\n",
    "        parameters = (self.s_0, \n",
    "                      self.c_y, self.μ_y, self.σ_y,\n",
    "                      self.c_r, self.μ_r,\n",
    "                      self.ρ)\n",
    "        return parameters\n",
    "                 \n",
    "    def compute_stationary_means(self):\n",
    "        # Unpack parameters\n",
    "        params = self.parameters()\n",
    "        s_0, c_y, μ_y, σ_y, c_r, μ_r, ρ = params\n",
    "\n",
    "        @njit\n",
    "        def csm(mc_size = 10_000):\n",
    "            np.random.seed(1234)\n",
    "            z_draws = np.random.randn(mc_size)\n",
    "            ξ_draws = np.random.randn(mc_size)\n",
    "            R_mean = 0.0\n",
    "            Y_mean = 0.0\n",
    "            for z in z_draws:\n",
    "                for ξ in ξ_draws:\n",
    "                    R_mean += np.exp(μ_r + c_r * np.exp(z) * ξ)\n",
    "                    Y_mean += c_y * np.exp(z) + np.exp(μ_y + σ_y * ξ)\n",
    "            R_mean = R_mean / (mc_size**2)\n",
    "            Y_mean = Y_mean / (mc_size**2)\n",
    "            return R_mean, Y_mean\n",
    "            \n",
    "        return csm()\n",
    "\n",
    "        \n",
    "    def update_function_builder(self):\n",
    "        \"\"\"\n",
    "        A function factory that returns a function with one task:\n",
    "        update wealth from w_t to w_{t+1}.\n",
    "        \"\"\"\n",
    "        # Unpack parameters\n",
    "        params = self.parameters()\n",
    "        s_0, c_y, μ_y, σ_y, c_r, μ_r, ρ = params\n",
    "        σ = np.sqrt(1 - ρ**2)\n",
    "                 \n",
    "        @njit\n",
    "        def update_z(z):\n",
    "            \"\"\"\n",
    "            Update exogenous state one period, given current state z.\n",
    "            \"\"\"   \n",
    "            zp = ρ * z + σ * np.random.randn()\n",
    "            return zp\n",
    "        \n",
    "        @njit\n",
    "        def update_w(w, z):\n",
    "            \"\"\"\n",
    "            Update one period, given current wealth w and next period \n",
    "            exogenous state zp.\n",
    "            \"\"\"   \n",
    "            y = c_y * np.exp(z) + np.exp(μ_y + σ_y * np.random.randn())   \n",
    "            R = np.exp(μ_r + c_r * np.exp(z) * np.random.randn())\n",
    "            wp = R * s_0 * w + y\n",
    "            return wp\n",
    "        \n",
    "        return update_z, update_w\n",
    "    "
   ]
  },
  {
   "cell_type": "markdown",
   "metadata": {},
   "source": [
    "Here's a function to simulate wealth of a single household."
   ]
  },
  {
   "cell_type": "code",
   "execution_count": 3,
   "metadata": {},
   "outputs": [],
   "source": [
    "@njit\n",
    "def wealth_time_series(w_0, z_0, g, h, ts_length=10_000):\n",
    "    \"\"\"\n",
    "    Generate a single time series for wealth.\n",
    "    \"\"\"\n",
    "    z = np.empty(ts_length)\n",
    "    z[0] = z_0\n",
    "    w = np.empty(ts_length)\n",
    "    w[0] = w_0\n",
    "    for t in range(ts_length-1):\n",
    "        z[t+1] = g(z[t])\n",
    "        w[t+1] = h(w[t], z[t+1])\n",
    "    return w"
   ]
  },
  {
   "cell_type": "markdown",
   "metadata": {},
   "source": [
    "Here's a function to simulate a cross section."
   ]
  },
  {
   "cell_type": "code",
   "execution_count": 4,
   "metadata": {},
   "outputs": [],
   "source": [
    "def cross_section(wd, w_distribution, z_0, shift_length=500, seed=1234):\n",
    "    \"\"\"\n",
    "    Takes a current distribution of wealth values as w_distribution\n",
    "    and updates each w_t in w_distribution to w_{t+j}, where \n",
    "    j = shift_length.  \n",
    "    \n",
    "    The parameter wd is an instance of WealthDynamics\n",
    "    \n",
    "    The value z_0 is the initial condition of the aggregate state.\n",
    "    \n",
    "    Returns the new distribution.\n",
    "    \"\"\"\n",
    "    n = len(w_distribution)\n",
    "    g, h = wd.update_function_builder()\n",
    "\n",
    "    @njit(parallel=True)\n",
    "    def simulate_forward(out_distribution):\n",
    "        \n",
    "        np.random.seed(seed)\n",
    "        # Update each household\n",
    "        for i in prange(n):\n",
    "            w = w_distribution[i]\n",
    "            z = z_0\n",
    "            for t in range(shift_length-1):\n",
    "                w = h(w, z)\n",
    "                z = g(z)\n",
    "            out_distribution[i] = w\n",
    "        return out_distribution\n",
    "\n",
    "    return simulate_forward(np.empty(n))"
   ]
  },
  {
   "cell_type": "markdown",
   "metadata": {},
   "source": [
    "### Experiments"
   ]
  },
  {
   "cell_type": "markdown",
   "metadata": {},
   "source": [
    "Let's look at the wealth dynamics of an individual household.  "
   ]
  },
  {
   "cell_type": "code",
   "execution_count": 5,
   "metadata": {},
   "outputs": [
    {
     "name": "stdout",
     "output_type": "stream",
     "text": [
      "Generated instance with stability coefficient α = 0.8031640592222655\n"
     ]
    },
    {
     "data": {
      "image/png": "[encoded data removed]",
      "text/plain": [
       "<matplotlib.figure.Figure at 0x7ff5f9034080>"
      ]
     },
     "metadata": {},
     "output_type": "display_data"
    }
   ],
   "source": [
    "wd = WealthDynamics(ρ=0.1)\n",
    "\n",
    "g, h = wd.update_function_builder()\n",
    "w = wealth_time_series(wd.y_mean, 0.0, g, h, ts_length=10_000)\n",
    "\n",
    "fig, ax = plt.subplots()\n",
    "ax.plot(w)\n",
    "plt.show()"
   ]
  },
  {
   "cell_type": "markdown",
   "metadata": {},
   "source": [
    "Let's try again with higher correlation coefficient $\\rho$:"
   ]
  },
  {
   "cell_type": "code",
   "execution_count": 6,
   "metadata": {},
   "outputs": [
    {
     "name": "stdout",
     "output_type": "stream",
     "text": [
      "Generated instance with stability coefficient α = 0.8031640592222655\n"
     ]
    },
    {
     "data": {
      "image/png": "[encoded data removed]",
      "text/plain": [
       "<matplotlib.figure.Figure at 0x7ff5f8dd5a58>"
      ]
     },
     "metadata": {},
     "output_type": "display_data"
    }
   ],
   "source": [
    "wd = WealthDynamics(ρ=0.75)\n",
    "\n",
    "g, h = wd.update_function_builder()\n",
    "w = wealth_time_series(wd.y_mean, 0.0, g, h, ts_length=10_000)\n",
    "\n",
    "fig, ax = plt.subplots()\n",
    "ax.plot(w)\n",
    "plt.show()"
   ]
  },
  {
   "cell_type": "markdown",
   "metadata": {},
   "source": [
    "And higher again:"
   ]
  },
  {
   "cell_type": "code",
   "execution_count": 7,
   "metadata": {},
   "outputs": [
    {
     "name": "stdout",
     "output_type": "stream",
     "text": [
      "Generated instance with stability coefficient α = 0.8031640592222655\n"
     ]
    },
    {
     "data": {
      "image/png": "[encoded data removed]",
      "text/plain": [
       "<matplotlib.figure.Figure at 0x7ff5f1138da0>"
      ]
     },
     "metadata": {},
     "output_type": "display_data"
    }
   ],
   "source": [
    "wd = WealthDynamics(ρ=0.95)\n",
    "\n",
    "g, h = wd.update_function_builder()\n",
    "w = wealth_time_series(wd.y_mean, 0.0, g, h, ts_length=10_000)\n",
    "\n",
    "fig, ax = plt.subplots()\n",
    "ax.plot(w)\n",
    "plt.show()"
   ]
  },
  {
   "cell_type": "markdown",
   "metadata": {},
   "source": [
    "### Application II: Size-Rank Plots\n",
    "\n",
    "Let's look at how inequality varies with returns on financial assets."
   ]
  },
  {
   "cell_type": "code",
   "execution_count": 8,
   "metadata": {},
   "outputs": [],
   "source": [
    "def generate_size_rank_data(wd, num_households=250_000, T=500):\n",
    "    \"\"\"\n",
    "    Generate the Lorenz curve data and gini coefficient corresponding to a \n",
    "    WealthDynamics mode by simulating num_households forward to time T.\n",
    "    \"\"\"\n",
    "    ψ_0 = np.ones(num_households) * wd.y_mean\n",
    "    z_0 = 0.0\n",
    "\n",
    "    ψ_star = cross_section(wd, ψ_0, z_0, shift_length=T)\n",
    "    ψ_star = - np.sort(- ψ_star) # Reverse sort\n",
    "    w_vec = ψ_star[:int(num_households * 0.01)] # extract top 5%\n",
    "    ydata = np.log(np.arange(len(w_vec)) + 1)\n",
    "    xdata = np.log(w_vec)\n",
    "    return xdata, ydata"
   ]
  },
  {
   "cell_type": "markdown",
   "metadata": {},
   "source": [
    "Here's a rank-size plot for several different values of $\\rho$, the correlation coefficient in the state process:"
   ]
  },
  {
   "cell_type": "code",
   "execution_count": 9,
   "metadata": {},
   "outputs": [
    {
     "name": "stdout",
     "output_type": "stream",
     "text": [
      "Generated instance with stability coefficient α = 0.8031640592222655\n",
      "Generated instance with stability coefficient α = 0.8031640592222655\n",
      "Generated instance with stability coefficient α = 0.8031640592222655\n"
     ]
    },
    {
     "data": {
      "image/png": "[encoded data removed]",
      "text/plain": [
       "<matplotlib.figure.Figure at 0x7ff5f0ea1208>"
      ]
     },
     "metadata": {},
     "output_type": "display_data"
    }
   ],
   "source": [
    "ρ_vals = 0.0, 0.5, 0.9\n",
    "fig, ax = plt.subplots(figsize=(8, 5.5))\n",
    "\n",
    "for ρ in ρ_vals:\n",
    "    wd = WealthDynamics(ρ=ρ)\n",
    "    xdata, ydata = generate_size_rank_data(wd, num_households=200_000)\n",
    "    ax.plot(xdata, ydata, 'o', alpha=0.5, label=f'$\\\\rho = {ρ}$')\n",
    "\n",
    "ax.set_ylabel(\"log rank\")\n",
    "ax.set_xlabel(\"log assets\")\n",
    "\n",
    "ax.legend()\n",
    "\n",
    "plt.show()"
   ]
  },
  {
   "cell_type": "markdown",
   "metadata": {},
   "source": [
    "Next we plot estimated Pareto exponent (computed via linear regression) against the correlation coefficient."
   ]
  },
  {
   "cell_type": "code",
   "execution_count": 10,
   "metadata": {},
   "outputs": [
    {
     "name": "stdout",
     "output_type": "stream",
     "text": [
      "Generated instance with stability coefficient α = 0.8031640592222655\n",
      "Generated instance with stability coefficient α = 0.8031640592222655\n",
      "Generated instance with stability coefficient α = 0.8031640592222655\n",
      "Generated instance with stability coefficient α = 0.8031640592222655\n",
      "Generated instance with stability coefficient α = 0.8031640592222655\n"
     ]
    },
    {
     "data": {
      "image/png": "[encoded data removed]",
      "text/plain": [
       "<matplotlib.figure.Figure at 0x7ff5f8df4908>"
      ]
     },
     "metadata": {},
     "output_type": "display_data"
    }
   ],
   "source": [
    "ρ_vals = np.linspace(0, 0.95, 5)\n",
    "exponents = []\n",
    "fig, ax = plt.subplots(figsize=(8, 5.5))\n",
    "\n",
    "for ρ in ρ_vals:\n",
    "    wd = WealthDynamics(ρ=ρ)\n",
    "    xdata, ydata = generate_size_rank_data(wd, num_households=250_000)\n",
    "    x = sm.add_constant(xdata)\n",
    "    reg1 = sm.OLS(ydata, x)\n",
    "    results = reg1.fit()\n",
    "    exponents.append(abs(results.params[1]))\n",
    "    \n",
    "ax.plot(ρ_vals, exponents, 'o-', alpha=0.5)\n",
    "\n",
    "ax.set_ylabel(\"Pareto exponent\")\n",
    "ax.set_xlabel(\"state correlation coefficient $\\\\rho$\")\n",
    "\n",
    "plt.show()"
   ]
  },
  {
   "cell_type": "code",
   "execution_count": null,
   "metadata": {},
   "outputs": [],
   "source": []
  },
  {
   "cell_type": "code",
   "execution_count": null,
   "metadata": {},
   "outputs": [],
   "source": []
  }
 ],
 "metadata": {
  "kernelspec": {
   "display_name": "Python 3",
   "language": "python",
   "name": "python3"
  },
  "language_info": {
   "codemirror_mode": {
    "name": "ipython",
    "version": 3
   },
   "file_extension": ".py",
   "mimetype": "text/x-python",
   "name": "python",
   "nbconvert_exporter": "python",
   "pygments_lexer": "ipython3",
   "version": "3.6.4"
  }
 },
 "nbformat": 4,
 "nbformat_minor": 2
}
