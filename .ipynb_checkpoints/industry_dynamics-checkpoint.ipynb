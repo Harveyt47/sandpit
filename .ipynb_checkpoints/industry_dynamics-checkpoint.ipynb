{
 "cells": [
  {
   "cell_type": "markdown",
   "metadata": {},
   "source": [
    "## Very Simple Markov Perfect Industry Dynamics\n",
    "\n",
    "#### John Stachurski"
   ]
  },
  {
   "cell_type": "code",
   "execution_count": null,
   "metadata": {},
   "outputs": [],
   "source": [
    "import numpy as np\n",
    "import quantecon as qe\n",
    "from numba import njit\n",
    "from lininterp import interp1d"
   ]
  },
  {
   "cell_type": "markdown",
   "metadata": {},
   "source": [
    "The state process is\n",
    "\n",
    "$$ y_{t+1} = \\rho y_t + b + \\xi_{t+1} $$\n",
    "\n",
    "where $-1 < \\rho < 1$ and $\\{ \\xi_t \\}$ is iid and uniform on $[-\\sigma, \\sigma]$\n",
    "\n",
    "\n",
    "The parameters in this process are set to"
   ]
  },
  {
   "cell_type": "code",
   "execution_count": null,
   "metadata": {},
   "outputs": [],
   "source": [
    "ρ = 0.5\n",
    "b = 10.0\n",
    "σ = 0.5"
   ]
  },
  {
   "cell_type": "markdown",
   "metadata": {},
   "source": [
    "Iterating on the bound $y_{t+1} \\leq \\rho y_t + b + \\sigma$ yields\n",
    "\n",
    "$$\n",
    "    y_{t+1} \\leq (b + \\sigma) \\frac{1 - \\rho^{t+1}}{1 - \\rho} + \\rho^{t+1} y_0\n",
    "$$\n",
    "\n",
    "Taking the limit in this expression and then repeating the exercise with the reverse bound $y_{t+1} \\geq \\rho y_t + b - \\sigma$, we find\n",
    "that the stationary distribution for $y_t$ is supported on the interval\n",
    "\n",
    "$$ I := \\left[ \\frac{b - \\sigma}{1 - \\rho}, \\, \\frac{b + \\sigma}{1 - \\rho} \\right] $$\n",
    "\n",
    "Let's set up a grid over $y$ values, covering the stationary distribution, which we can use to interpolate functions over:"
   ]
  },
  {
   "cell_type": "code",
   "execution_count": null,
   "metadata": {},
   "outputs": [],
   "source": [
    "y_min = (b - σ) / (1 - ρ)\n",
    "y_max = (b + σ) / (1 - ρ)\n",
    "y_grid_size = 5\n",
    "y_grid = np.linspace(y_min, y_max, y_grid_size)"
   ]
  },
  {
   "cell_type": "markdown",
   "metadata": {},
   "source": [
    "We'll use draws from the innovation $\\xi$ to integrate via Monte Carlo:"
   ]
  },
  {
   "cell_type": "code",
   "execution_count": null,
   "metadata": {},
   "outputs": [],
   "source": [
    "mc_size = 100\n",
    "ξ_draws = np.random.uniform(low=-σ, high=σ, size=mc_size)"
   ]
  },
  {
   "cell_type": "markdown",
   "metadata": {},
   "source": [
    "The discount rate is"
   ]
  },
  {
   "cell_type": "code",
   "execution_count": 3,
   "metadata": {},
   "outputs": [],
   "source": [
    "β = 0.9"
   ]
  },
  {
   "cell_type": "markdown",
   "metadata": {},
   "source": [
    "Entry costs are increasing in the number of firms:"
   ]
  },
  {
   "cell_type": "code",
   "execution_count": 4,
   "metadata": {},
   "outputs": [],
   "source": [
    "def ϕ(n):\n",
    "    return n**2"
   ]
  },
  {
   "cell_type": "markdown",
   "metadata": {},
   "source": [
    "The profit function $\\pi$ is decreasing in the number of firms and increasing in the exogenous state:"
   ]
  },
  {
   "cell_type": "code",
   "execution_count": 5,
   "metadata": {},
   "outputs": [],
   "source": [
    "d = 5.0\n",
    "α = 2.0\n",
    "\n",
    "def π(n, y):\n",
    "    return d + y - n**α"
   ]
  },
  {
   "cell_type": "markdown",
   "metadata": {},
   "source": [
    "Set `n_max` to the first $n$ such that profits are negative for all possible values of $y_t$."
   ]
  },
  {
   "cell_type": "code",
   "execution_count": 12,
   "metadata": {},
   "outputs": [],
   "source": [
    "n_max = np.int(np.ceil((d + y_max)**(1/α)))\n",
    "n_size = n_max + 1"
   ]
  },
  {
   "cell_type": "code",
   "execution_count": 13,
   "metadata": {},
   "outputs": [
    {
     "data": {
      "text/plain": [
       "6"
      ]
     },
     "execution_count": 13,
     "metadata": {},
     "output_type": "execute_result"
    }
   ],
   "source": [
    "n_max"
   ]
  },
  {
   "cell_type": "markdown",
   "metadata": {},
   "source": [
    "In the text, `n_max` will be represented by $\\bar n$."
   ]
  },
  {
   "cell_type": "markdown",
   "metadata": {},
   "source": [
    "First we solve for $v_E(\\bar n, \\cdot)$ as the fixed point of\n",
    "\n",
    "$$ (Tf)(y) = \n",
    "   \\max \n",
    "   \\left\\{\n",
    "       0, \\, \\beta \\, \\mathbb E_y \n",
    "        [ \\pi(\\bar n, Y') + \n",
    "           f(Y')\n",
    "        ]\n",
    "   \\right\\}\n",
    "$$\n",
    "         \n",
    "\n",
    "Next, for $n = \\bar n -1, \\bar n - 2, \\ldots, 1$, we solve the family of contractions\n",
    "\n",
    "$$ (T_n f)(y) = \n",
    "   \\max \n",
    "   \\left\\{\n",
    "       0, \\, \\beta  \\, \\mathbb E_y \n",
    "        [ \\pi(n, Y') + \n",
    "           \\mathbb 1\\{\\mu(n, Y') = n\\} f(Y') +\n",
    "           \\mathbb 1\\{\\mu(n, Y') > n\\} g_n(Y')\n",
    "        ]\n",
    "   \\right\\}\n",
    "$$\n",
    "\n",
    "Here\n",
    "\n",
    "* $g_n(Y') := v_E(\\mu(n, Y'), Y')$\n",
    "* $\\mu(n, y) := n + \\sum_{m=n+1}^{\\bar n} \\mathbb 1\\{v_E(n, y) > \\phi(n)\\}$ where $v_E(n, \\cdot)$ is the fixed point of $T_n$"
   ]
  },
  {
   "cell_type": "markdown",
   "metadata": {},
   "source": [
    "The expectations above will be approximated by Monte Carlo estimates of the form\n",
    "\n",
    "$$\n",
    "    \\hat E_y [ h(Y')]\n",
    "     := \\frac{1}{m} \\sum_{i=1}^m\n",
    "         [ h( \\rho y + b + \\xi_i) ]\n",
    "$$\n"
   ]
  },
  {
   "cell_type": "code",
   "execution_count": 18,
   "metadata": {},
   "outputs": [],
   "source": [
    "def build_bellman_operator(v_E, n):\n",
    "    \n",
    "    def firm_bellman(f_in):\n",
    "\n",
    "        # Set up\n",
    "        def f(x):\n",
    "            return interp1d(y_vec, f_in, x)\n",
    "        f_out = np.empty_like(f_in)\n",
    "\n",
    "        for i, y in enumerate(y_vec):\n",
    "            t = 0.0\n",
    "            for ξ in ξ_draws:\n",
    "                yp = ρ * y + b + ξ\n",
    "                t += π(n_max, yp) \n",
    "                # Evaluate μ(n, yp)\n",
    "                μ = n\n",
    "                if n < n_max:\n",
    "                    for m in range(n+1, n_size):  # m = n+1, ..., n_max\n",
    "                        if v_E(m, yp) > ϕ(n):\n",
    "                            μ += 1\n",
    "                if μ = n:\n",
    "                    t += f(yp)\n",
    "                else:\n",
    "                    t += v_E(μ, yp)\n",
    "            f_out[i] = max(0, β * (t / mc_size))\n",
    "        return f_out\n"
   ]
  },
  {
   "cell_type": "code",
   "execution_count": 6,
   "metadata": {},
   "outputs": [],
   "source": [
    "def iterate(f_init, operator, tol=0.001, max_iter=500):\n",
    "    error = tol + 1\n",
    "    i = 0\n",
    "    f_in = f_init\n",
    "    while i < max_iter and error > tol:\n",
    "        f_out = operator(f_in)\n",
    "        error = np.max(np.abs(f_out - f_in))\n",
    "        f_in = f_out\n",
    "    return f_out"
   ]
  },
  {
   "cell_type": "code",
   "execution_count": 53,
   "metadata": {},
   "outputs": [],
   "source": [
    "v_E = np.zeros((n_size, y_size))"
   ]
  },
  {
   "cell_type": "code",
   "execution_count": null,
   "metadata": {},
   "outputs": [],
   "source": [
    "n = n_max\n",
    "while n >= 0:\n",
    "    operator = bui"
   ]
  }
 ],
 "metadata": {
  "kernelspec": {
   "display_name": "Python 3",
   "language": "python",
   "name": "python3"
  },
  "language_info": {
   "codemirror_mode": {
    "name": "ipython",
    "version": 3
   },
   "file_extension": ".py",
   "mimetype": "text/x-python",
   "name": "python",
   "nbconvert_exporter": "python",
   "pygments_lexer": "ipython3",
   "version": "3.6.4"
  }
 },
 "nbformat": 4,
 "nbformat_minor": 2
}
