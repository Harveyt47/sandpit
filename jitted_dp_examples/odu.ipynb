{
 "cells": [
  {
   "cell_type": "markdown",
   "metadata": {},
   "source": [
    "## Offer Distribution Unknown"
   ]
  },
  {
   "cell_type": "code",
   "execution_count": 2,
   "metadata": {},
   "outputs": [],
   "source": [
    "import numpy as np\n",
    "import matplotlib.pyplot as plt\n",
    "from lininterp import interp1d\n",
    "from numba import njit, vectorize, prange\n",
    "\n",
    "from math import gamma\n",
    "from scipy.stats import beta\n"
   ]
  },
  {
   "cell_type": "code",
   "execution_count": 3,
   "metadata": {},
   "outputs": [],
   "source": [
    "from matplotlib import rc\n",
    "rc('font',**{'family':'sans-serif','sans-serif':['Helvetica']})\n",
    "rc('text', usetex=True)"
   ]
  },
  {
   "cell_type": "markdown",
   "metadata": {},
   "source": [
    "Let's set up some fast jitted functions that implement beta distributions.  In doing so we recall that the beta density is\n",
    "\n",
    "$$ \n",
    "    p(x, a, b) = \\frac{\\Gamma(a + b)}{\\Gamma(a)\\Gamma(b)}\n",
    "        x^{a-1} (1 - x)^{b-1}\n",
    "        \\qquad (0 \\leq x \\leq 1)\n",
    "$$\n"
   ]
  },
  {
   "cell_type": "code",
   "execution_count": 4,
   "metadata": {},
   "outputs": [],
   "source": [
    "def beta_function_factory(a, b):\n",
    "    \n",
    "    @vectorize\n",
    "    def p(x):\n",
    "        r = gamma(a + b) / (gamma(a) * gamma(b))\n",
    "        return r * x**(a-1) * (1 - x)**(b-1)\n",
    "    \n",
    "    @njit\n",
    "    def p_rvs():\n",
    "        return np.random.beta(a, b)\n",
    "    \n",
    "    return p, p_rvs\n",
    "\n"
   ]
  },
  {
   "cell_type": "code",
   "execution_count": 6,
   "metadata": {},
   "outputs": [
    {
     "data": {
      "image/png": "[encoded data removed]",
      "text/plain": [
       "<matplotlib.figure.Figure at 0x7f754318a6d8>"
      ]
     },
     "metadata": {},
     "output_type": "display_data"
    }
   ],
   "source": [
    "x_grid = np.linspace(0, 1, 100)\n",
    "f, f_rvs = beta_function_factory(4, 2)\n",
    "g, g_rvs = beta_function_factory(2, 4)\n",
    "\n",
    "fig, ax = plt.subplots()\n",
    "\n",
    "plt.plot(x_grid, f(x_grid), label='$f$', lw=2)\n",
    "plt.plot(x_grid, g(x_grid), label='$g$', lw=2)\n",
    "\n",
    "plt.legend(fontsize=12)\n",
    "plt.show()"
   ]
  },
  {
   "cell_type": "markdown",
   "metadata": {},
   "source": [
    "A convex combination"
   ]
  },
  {
   "cell_type": "code",
   "execution_count": 7,
   "metadata": {},
   "outputs": [
    {
     "data": {
      "image/png": "[encoded data removed]",
      "text/plain": [
       "<matplotlib.figure.Figure at 0x7f7571f872e8>"
      ]
     },
     "metadata": {},
     "output_type": "display_data"
    }
   ],
   "source": [
    "\n",
    "fig, ax = plt.subplots()\n",
    "\n",
    "plt.plot(x_grid, 0.5 * f(x_grid) + 0.5 * g(x_grid), label='$q$', lw=2)\n",
    "plt.legend()\n",
    "plt.show()"
   ]
  },
  {
   "cell_type": "code",
   "execution_count": 8,
   "metadata": {},
   "outputs": [],
   "source": [
    "class SearchProblem:\n",
    "\n",
    "    def __init__(self, \n",
    "                 β=0.95, \n",
    "                 c=0.1, \n",
    "                 F_a=4, \n",
    "                 F_b=2, \n",
    "                 G_a=2, \n",
    "                 G_b=4,\n",
    "                 π_grid_size=20):\n",
    "\n",
    "        self.β, self.c = β, c\n",
    "        self.f, self.f_rvs = beta_function_factory(F_a, F_b)\n",
    "        self.g, self.g_rvs = beta_function_factory(G_a, G_b)\n",
    "        \n",
    "        self.π_grid = np.linspace(0, 1, π_grid_size)\n",
    "        "
   ]
  },
  {
   "cell_type": "code",
   "execution_count": 9,
   "metadata": {},
   "outputs": [],
   "source": [
    "def Q_factory(sp, mc_size=10000, seed=123):\n",
    "\n",
    "    # == Simplify names == #\n",
    "    β, c, π_grid = sp.β, sp.c, sp.π_grid\n",
    "    f, f_rvs = sp.f, sp.f_rvs\n",
    "    g, g_rvs = sp.g, sp.g_rvs\n",
    "\n",
    "\n",
    "    @njit\n",
    "    def κ(w, π):\n",
    "        \"\"\"\n",
    "        Updates π using Bayes' rule and the current wage observation w.\n",
    "        \"\"\"\n",
    "        pf, pg = π * f(w), (1 - π) * g(w)\n",
    "        new_π =  pf / (pf + pg)\n",
    "        return new_π\n",
    "    \n",
    "    @njit(parallel=False)\n",
    "    def Q(ψ):\n",
    "            \n",
    "        np.random.seed(seed)\n",
    "        U = np.random.uniform(0, 1, mc_size)\n",
    "\n",
    "        \n",
    "        # == Turn ψ into a function == #\n",
    "        def ψ_f(x):\n",
    "            return interp1d(π_grid, ψ, x)\n",
    "        \n",
    "        new_ψ = np.empty_like(ψ)\n",
    "        w_prime = np.empty(mc_size)\n",
    "\n",
    "        for i in prange(len(π_grid)):\n",
    "            π = π_grid[i]\n",
    "            \n",
    "            # Generate draws from q_π\n",
    "            for m in range(mc_size):\n",
    "                if U[m] < π:\n",
    "                    wp = f_rvs()\n",
    "                else:\n",
    "                    wp = g_rvs()\n",
    "                w_prime[m] = wp\n",
    "\n",
    "            # Evaluate expectation\n",
    "            integral = 0.0\n",
    "            for m, wp in enumerate(w_prime):\n",
    "                integral += max(wp, ψ_f(κ(wp, π)))\n",
    "            integral = integral / mc_size\n",
    "\n",
    "            # Update Qψ\n",
    "            new_ψ[i] = (1 - β) * c + β * integral\n",
    "\n",
    "        return new_ψ\n",
    "    \n",
    "    return Q"
   ]
  },
  {
   "cell_type": "code",
   "execution_count": 10,
   "metadata": {},
   "outputs": [],
   "source": [
    "def Q_iterator(sp, max_iter=500, tol=1e-4):\n",
    "    \n",
    "    ψ_init = np.ones(len(sp.π_grid))\n",
    "    Q = Q_factory(sp)\n",
    "    ψ = ψ_init\n",
    "    ϵ = tol + 1\n",
    "    i = 0\n",
    "    \n",
    "    while i < max_iter and ϵ > tol:\n",
    "        new_ψ = Q(ψ)\n",
    "        ϵ = np.max(np.abs(ψ - new_ψ))\n",
    "        ψ = new_ψ\n",
    "        i += 1\n",
    "        \n",
    "    if i == max_iter:\n",
    "        print(\"Warning: hit maximum iterations\")\n",
    "        \n",
    "        \n",
    "    return ψ"
   ]
  },
  {
   "cell_type": "code",
   "execution_count": 11,
   "metadata": {},
   "outputs": [],
   "source": [
    "sp1 = SearchProblem()\n"
   ]
  },
  {
   "cell_type": "code",
   "execution_count": 12,
   "metadata": {},
   "outputs": [],
   "source": [
    "ψ_1 = Q_iterator(sp1)\n"
   ]
  },
  {
   "cell_type": "code",
   "execution_count": 13,
   "metadata": {},
   "outputs": [],
   "source": [
    "sp2 = SearchProblem(c=0.2)\n",
    "ψ_2 = Q_iterator(sp2)"
   ]
  },
  {
   "cell_type": "code",
   "execution_count": 14,
   "metadata": {},
   "outputs": [
    {
     "data": {
      "image/png": "[encoded data removed]",
      "text/plain": [
       "<matplotlib.figure.Figure at 0x7f75707cb978>"
      ]
     },
     "metadata": {},
     "output_type": "display_data"
    }
   ],
   "source": [
    "fig, ax = plt.subplots()\n",
    "\n",
    "ax.plot(sp2.π_grid, ψ_2, lw=2, alpha=0.6, label='$c = 0.2$')\n",
    "ax.plot(sp1.π_grid, ψ_1, lw=2, alpha=0.6, label='$c = 0.1$')\n",
    "\n",
    "ax.legend(fontsize=14)\n",
    "ax.set_xlabel(\"belief state $\\\\pi$\", fontsize=12)\n",
    "ax.set_ylabel(\"reservation wage\", fontsize=12)\n",
    "plt.show()"
   ]
  },
  {
   "cell_type": "code",
   "execution_count": null,
   "metadata": {},
   "outputs": [],
   "source": []
  },
  {
   "cell_type": "code",
   "execution_count": null,
   "metadata": {},
   "outputs": [],
   "source": []
  }
 ],
 "metadata": {
  "kernelspec": {
   "display_name": "Python 3",
   "language": "python",
   "name": "python3"
  },
  "language_info": {
   "codemirror_mode": {
    "name": "ipython",
    "version": 3
   },
   "file_extension": ".py",
   "mimetype": "text/x-python",
   "name": "python",
   "nbconvert_exporter": "python",
   "pygments_lexer": "ipython3",
   "version": "3.6.4"
  }
 },
 "nbformat": 4,
 "nbformat_minor": 2
}
