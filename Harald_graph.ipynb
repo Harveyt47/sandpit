{
 "cells": [
  {
   "cell_type": "code",
   "execution_count": null,
   "metadata": {
    "collapsed": false
   },
   "outputs": [],
   "source": [
    "### Construct Harald graph\n",
    "\n",
    "import matplotlib.pyplot as plt\n",
    "import numpy as np\n",
    "\n",
    "# a1,c, sbar, k, mop = .8, 100.0, 100.0, .5, 0.0\n",
    "\n",
    "a1 = .8\n",
    "c = 10\n",
    "sbar  = 10\n",
    "k = 1.0\n",
    "mop = 0;    # this is m/p\n",
    "\n",
    "\n",
    "\n",
    "s = np.arange(sbar*(.6), sbar*(.85),.01)\n",
    "\n",
    "f1 = (k-mop)/(sbar -s) \n",
    "f2 = ((1.0-a1)/a1)*(c/s)\n",
    "f3 = (k - .5*k)/(sbar-s)\n",
    "plt.plot(s, f1)\n",
    "plt.plot(s, f2)\n",
    "plt.plot(s, f3)\n",
    "plt.title('Ricardo doctrine)\n",
    "plt.xlabel('silver(s)')\n",
    "plt.ylabel('p/e')\n",
    "plt.savefig(\"Ricardo.png\")\n",
    "plt.show()\n"
   ]
  },
  {
   "cell_type": "code",
   "execution_count": null,
   "metadata": {
    "collapsed": true
   },
   "outputs": [],
   "source": []
  },
  {
   "cell_type": "code",
   "execution_count": null,
   "metadata": {
    "collapsed": true
   },
   "outputs": [],
   "source": []
  }
 ],
 "metadata": {
  "kernelspec": {
   "display_name": "Python [Root]",
   "language": "python",
   "name": "Python [Root]"
  },
  "language_info": {
   "codemirror_mode": {
    "name": "ipython",
    "version": 3
   },
   "file_extension": ".py",
   "mimetype": "text/x-python",
   "name": "python",
   "nbconvert_exporter": "python",
   "pygments_lexer": "ipython3",
   "version": "3.5.2"
  }
 },
 "nbformat": 4,
 "nbformat_minor": 0
}
