{
 "cells": [
  {
   "cell_type": "markdown",
   "metadata": {},
   "source": [
    "# Some errors in \"Robustness\" of Quantecon"
   ]
  },
  {
   "cell_type": "markdown",
   "metadata": {},
   "source": [
    "I encountered some errors when replicating the results in the lecture \"[Robustness](https://lectures.quantecon.org/py/robustness.html)\" of Quantecon. \n",
    "\n",
    "The errors came from the failure of `LQ` in calculating stationary values of the example monopolist model. \n",
    "\n",
    "With the help of `olrp` and `olrprobust`, I was able to find the correct values and match the graph in the lecture."
   ]
  },
  {
   "cell_type": "markdown",
   "metadata": {},
   "source": [
    "## 1. The codes from \"Robustness\" cannot replicate their associated graph"
   ]
  },
  {
   "cell_type": "markdown",
   "metadata": {},
   "source": [
    "I copied the codes from the \"Robustness\" chapter of Quantecon below:"
   ]
  },
  {
   "cell_type": "code",
   "execution_count": 1,
   "metadata": {},
   "outputs": [
    {
     "ename": "ValueError",
     "evalue": "Convergence failed after 501 iterations.",
     "output_type": "error",
     "traceback": [
      "\u001b[0;31m---------------------------------------------------------------------------\u001b[0m",
      "\u001b[0;31mValueError\u001b[0m                                Traceback (most recent call last)",
      "\u001b[0;32m<ipython-input-1-69fe89964c85>\u001b[0m in \u001b[0;36m<module>\u001b[0;34m()\u001b[0m\n\u001b[1;32m    112\u001b[0m \u001b[0;31m# == Compute the optimal rule == #\u001b[0m\u001b[0;34m\u001b[0m\u001b[0;34m\u001b[0m\u001b[0m\n\u001b[1;32m    113\u001b[0m \u001b[0moptimal_lq\u001b[0m \u001b[0;34m=\u001b[0m \u001b[0mqe\u001b[0m\u001b[0;34m.\u001b[0m\u001b[0mlqcontrol\u001b[0m\u001b[0;34m.\u001b[0m\u001b[0mLQ\u001b[0m\u001b[0;34m(\u001b[0m\u001b[0mQ\u001b[0m\u001b[0;34m,\u001b[0m \u001b[0mR\u001b[0m\u001b[0;34m,\u001b[0m \u001b[0mA\u001b[0m\u001b[0;34m,\u001b[0m \u001b[0mB\u001b[0m\u001b[0;34m,\u001b[0m \u001b[0mC\u001b[0m\u001b[0;34m,\u001b[0m \u001b[0mβ\u001b[0m\u001b[0;34m)\u001b[0m\u001b[0;34m\u001b[0m\u001b[0m\n\u001b[0;32m--> 114\u001b[0;31m \u001b[0mPo\u001b[0m\u001b[0;34m,\u001b[0m \u001b[0mFo\u001b[0m\u001b[0;34m,\u001b[0m \u001b[0mdo\u001b[0m \u001b[0;34m=\u001b[0m \u001b[0moptimal_lq\u001b[0m\u001b[0;34m.\u001b[0m\u001b[0mstationary_values\u001b[0m\u001b[0;34m(\u001b[0m\u001b[0;34m)\u001b[0m\u001b[0;34m\u001b[0m\u001b[0m\n\u001b[0m\u001b[1;32m    115\u001b[0m \u001b[0;34m\u001b[0m\u001b[0m\n\u001b[1;32m    116\u001b[0m \u001b[0;31m# == Compute a robust rule given θ == #\u001b[0m\u001b[0;34m\u001b[0m\u001b[0;34m\u001b[0m\u001b[0m\n",
      "\u001b[0;32m~/anaconda3/lib/python3.6/site-packages/quantecon/lqcontrol.py\u001b[0m in \u001b[0;36mstationary_values\u001b[0;34m(self, method)\u001b[0m\n\u001b[1;32m    236\u001b[0m         \u001b[0;31m# === solve Riccati equation, obtain P === #\u001b[0m\u001b[0;34m\u001b[0m\u001b[0;34m\u001b[0m\u001b[0m\n\u001b[1;32m    237\u001b[0m         \u001b[0mA0\u001b[0m\u001b[0;34m,\u001b[0m \u001b[0mB0\u001b[0m \u001b[0;34m=\u001b[0m \u001b[0mnp\u001b[0m\u001b[0;34m.\u001b[0m\u001b[0msqrt\u001b[0m\u001b[0;34m(\u001b[0m\u001b[0mself\u001b[0m\u001b[0;34m.\u001b[0m\u001b[0mbeta\u001b[0m\u001b[0;34m)\u001b[0m \u001b[0;34m*\u001b[0m \u001b[0mA\u001b[0m\u001b[0;34m,\u001b[0m \u001b[0mnp\u001b[0m\u001b[0;34m.\u001b[0m\u001b[0msqrt\u001b[0m\u001b[0;34m(\u001b[0m\u001b[0mself\u001b[0m\u001b[0;34m.\u001b[0m\u001b[0mbeta\u001b[0m\u001b[0;34m)\u001b[0m \u001b[0;34m*\u001b[0m \u001b[0mB\u001b[0m\u001b[0;34m\u001b[0m\u001b[0m\n\u001b[0;32m--> 238\u001b[0;31m         \u001b[0mP\u001b[0m \u001b[0;34m=\u001b[0m \u001b[0msolve_discrete_riccati\u001b[0m\u001b[0;34m(\u001b[0m\u001b[0mA0\u001b[0m\u001b[0;34m,\u001b[0m \u001b[0mB0\u001b[0m\u001b[0;34m,\u001b[0m \u001b[0mR\u001b[0m\u001b[0;34m,\u001b[0m \u001b[0mQ\u001b[0m\u001b[0;34m,\u001b[0m \u001b[0mN\u001b[0m\u001b[0;34m,\u001b[0m \u001b[0mmethod\u001b[0m\u001b[0;34m=\u001b[0m\u001b[0mmethod\u001b[0m\u001b[0;34m)\u001b[0m\u001b[0;34m\u001b[0m\u001b[0m\n\u001b[0m\u001b[1;32m    239\u001b[0m \u001b[0;34m\u001b[0m\u001b[0m\n\u001b[1;32m    240\u001b[0m         \u001b[0;31m# == Compute F == #\u001b[0m\u001b[0;34m\u001b[0m\u001b[0;34m\u001b[0m\u001b[0m\n",
      "\u001b[0;32m~/anaconda3/lib/python3.6/site-packages/quantecon/matrix_eqn.py\u001b[0m in \u001b[0;36msolve_discrete_riccati\u001b[0;34m(A, B, Q, R, N, tolerance, max_iter, method)\u001b[0m\n\u001b[1;32m    213\u001b[0m \u001b[0;34m\u001b[0m\u001b[0m\n\u001b[1;32m    214\u001b[0m         \u001b[0;32mif\u001b[0m \u001b[0mi\u001b[0m \u001b[0;34m>\u001b[0m \u001b[0mmax_iter\u001b[0m\u001b[0;34m:\u001b[0m\u001b[0;34m\u001b[0m\u001b[0m\n\u001b[0;32m--> 215\u001b[0;31m             \u001b[0;32mraise\u001b[0m \u001b[0mValueError\u001b[0m\u001b[0;34m(\u001b[0m\u001b[0mfail_msg\u001b[0m\u001b[0;34m.\u001b[0m\u001b[0mformat\u001b[0m\u001b[0;34m(\u001b[0m\u001b[0mi\u001b[0m\u001b[0;34m)\u001b[0m\u001b[0;34m)\u001b[0m\u001b[0;34m\u001b[0m\u001b[0m\n\u001b[0m\u001b[1;32m    216\u001b[0m \u001b[0;34m\u001b[0m\u001b[0m\n\u001b[1;32m    217\u001b[0m         \u001b[0;32melse\u001b[0m\u001b[0;34m:\u001b[0m\u001b[0;34m\u001b[0m\u001b[0m\n",
      "\u001b[0;31mValueError\u001b[0m: Convergence failed after 501 iterations."
     ]
    }
   ],
   "source": [
    "\"\"\"\n",
    "\n",
    "Authors: Chase Coleman, Spencer Lyon, Thomas Sargent, John Stachurski\n",
    "\n",
    "(Copied from \"Robustness\" of Quantecon on June 27, 2017)\n",
    "\n",
    "\"\"\"\n",
    "import pandas as pd\n",
    "import numpy as np\n",
    "from scipy.linalg import eig\n",
    "import matplotlib.pyplot as plt\n",
    "import quantecon as qe\n",
    "\n",
    "# == model parameters == #\n",
    "\n",
    "a_0 = 100\n",
    "a_1 = 0.5\n",
    "ρ = 0.9\n",
    "σ_d = 0.05\n",
    "β = 0.95\n",
    "c = 2\n",
    "γ = 50.0\n",
    "\n",
    "θ = 0.002\n",
    "ac = (a_0 - c) / 2.0\n",
    "\n",
    "# == Define LQ matrices == #\n",
    "\n",
    "R = np.array([[0.,   ac,   0.],\n",
    "              [ac, -a_1,  0.5],\n",
    "              [0.,  0.5,  0.]])\n",
    "\n",
    "R = -R  # For minimization\n",
    "Q = γ / 2\n",
    "\n",
    "A = np.array([[1., 0., 0.],\n",
    "              [0., 1., 0.],\n",
    "              [0., 0., ρ]])\n",
    "B = np.array([[0.],\n",
    "              [1.],\n",
    "              [0.]])\n",
    "C = np.array([[0.],\n",
    "              [0.],\n",
    "              [σ_d]])\n",
    "\n",
    "# -------------------------------------------------------------------------- #\n",
    "#                                 Functions\n",
    "# -------------------------------------------------------------------------- #\n",
    "\n",
    "\n",
    "def evaluate_policy(θ, F):\n",
    "    \"\"\"\n",
    "    Given θ (scalar, dtype=float) and policy F (array_like), returns the\n",
    "    value associated with that policy under the worst case path for {w_t}, as\n",
    "    well as the entropy level.\n",
    "    \"\"\"\n",
    "    rlq = qe.robustlq.RBLQ(Q, R, A, B, C, β, θ)\n",
    "    K_F, P_F, d_F, O_F, o_F = rlq.evaluate_F(F)\n",
    "    x0 = np.array([[1.], [0.], [0.]])\n",
    "    value = - x0.T @ P_F @ x0 - d_F\n",
    "    entropy = x0.T @ O_F @ x0 + o_F\n",
    "    return list(map(float, (value, entropy)))\n",
    "\n",
    "\n",
    "def value_and_entropy(emax, F, bw, grid_size=1000):\n",
    "    \"\"\"\n",
    "    Compute the value function and entropy levels for a θ path\n",
    "    increasing until it reaches the specified target entropy value.\n",
    "\n",
    "    Parameters\n",
    "    ==========\n",
    "    emax: scalar\n",
    "        The target entropy value\n",
    "\n",
    "    F: array_like\n",
    "        The policy function to be evaluated\n",
    "\n",
    "    bw: str\n",
    "        A string specifying whether the implied shock path follows best\n",
    "        or worst assumptions. The only acceptable values are 'best' and\n",
    "        'worst'.\n",
    "\n",
    "    Returns\n",
    "    =======\n",
    "    df: pd.DataFrame\n",
    "        A pandas DataFrame containing the value function and entropy\n",
    "        values up to the emax parameter. The columns are 'value' and\n",
    "        'entropy'.\n",
    "\n",
    "    \"\"\"\n",
    "    if bw == 'worst':\n",
    "        θs = 1 / np.linspace(1e-8, 1000, grid_size)\n",
    "    else:\n",
    "        θs = -1 / np.linspace(1e-8, 1000, grid_size)\n",
    "\n",
    "    df = pd.DataFrame(index=θs, columns=('value', 'entropy'))\n",
    "\n",
    "    for θ in θs:\n",
    "        df.loc[θ] = evaluate_policy(θ, F)\n",
    "        if df.loc[θ, 'entropy'] >= emax:\n",
    "            break\n",
    "\n",
    "    df = df.dropna(how='any')\n",
    "    return df\n",
    "\n",
    "\n",
    "# -------------------------------------------------------------------------- #\n",
    "#                                    Main\n",
    "# -------------------------------------------------------------------------- #\n",
    "\n",
    "\n",
    "# == Compute the optimal rule == #\n",
    "optimal_lq = qe.lqcontrol.LQ(Q, R, A, B, C, β)\n",
    "Po, Fo, do = optimal_lq.stationary_values()\n",
    "\n",
    "# == Compute a robust rule given θ == #\n",
    "baseline_robust = qe.robustlq.RBLQ(Q, R, A, B, C, β, θ)\n",
    "Fb, Kb, Pb = baseline_robust.robust_rule()\n",
    "\n",
    "# == Check the positive definiteness of worst-case covariance matrix to == #\n",
    "# == ensure that θ exceeds the breakdown point == #\n",
    "test_matrix = np.identity(Pb.shape[0]) - (C.T @ Pb @ C) / θ\n",
    "eigenvals, eigenvecs = eig(test_matrix)\n",
    "assert (eigenvals >= 0).all(), 'θ below breakdown point.'\n",
    "\n",
    "\n",
    "emax = 1.6e6\n",
    "\n",
    "optimal_best_case = value_and_entropy(emax, Fo, 'best')\n",
    "robust_best_case = value_and_entropy(emax, Fb, 'best')\n",
    "optimal_worst_case = value_and_entropy(emax, Fo, 'worst')\n",
    "robust_worst_case = value_and_entropy(emax, Fb, 'worst')\n",
    "\n",
    "fig, ax = plt.subplots(figsize=(11,8))\n",
    "\n",
    "ax.set_xlim(0, emax)\n",
    "ax.set_ylabel(\"Value\")\n",
    "ax.set_xlabel(\"Entropy\")\n",
    "ax.grid()\n",
    "\n",
    "for axis in 'x', 'y':\n",
    "    plt.ticklabel_format(style='sci', axis=axis, scilimits=(0, 0))\n",
    "\n",
    "plot_args = {'lw': 2, 'alpha': 0.7}\n",
    "\n",
    "colors = 'r', 'b'\n",
    "\n",
    "df_pairs = ((optimal_best_case, optimal_worst_case),\n",
    "            (robust_best_case, robust_worst_case))\n",
    "\n",
    "\n",
    "class Curve:\n",
    "\n",
    "    def __init__(self, x, y):\n",
    "        self.x, self.y = x, y\n",
    "\n",
    "    def __call__(self, z):\n",
    "        return np.interp(z, self.x, self.y)\n",
    "\n",
    "\n",
    "for c, df_pair in zip(colors, df_pairs):\n",
    "    curves = []\n",
    "    for df in df_pair:\n",
    "        # == Plot curves == #\n",
    "        x, y = df['entropy'], df['value']\n",
    "        x, y = (np.asarray(a, dtype='float') for a in (x, y))\n",
    "        egrid = np.linspace(0, emax, 100)\n",
    "        curve = Curve(x, y)\n",
    "        ax.plot(egrid, curve(egrid), color=c, **plot_args)\n",
    "        curves.append(curve)\n",
    "    # == Color fill between curves == #\n",
    "    ax.fill_between(egrid,\n",
    "                    curves[0](egrid),\n",
    "                    curves[1](egrid),\n",
    "                    color=c, alpha=0.1)\n",
    "\n",
    "plt.show()"
   ]
  },
  {
   "cell_type": "markdown",
   "metadata": {},
   "source": [
    "The resulting graph from the codes is inconsistent with the graph from the lecture below:\n",
    "<img src=\"https://lectures.quantecon.org/_images/kg_small_theta.png\" alt=\"Alt text that describes the graphic\" title=\"Title text\" />"
   ]
  },
  {
   "cell_type": "markdown",
   "metadata": {},
   "source": [
    "Now let's find out why."
   ]
  },
  {
   "cell_type": "markdown",
   "metadata": {},
   "source": [
    "## 2. Comparison test of \"Robustness\" codes with `olrp` and `olrprobust`"
   ]
  },
  {
   "cell_type": "markdown",
   "metadata": {},
   "source": [
    "We first calculate the ordinary and robust decision rules using `olrp` and `olrprobust` respectively.\n",
    "\n",
    "We then compare the results with those from \"Robustness\"."
   ]
  },
  {
   "cell_type": "code",
   "execution_count": 2,
   "metadata": {},
   "outputs": [
    {
     "name": "stdout",
     "output_type": "stream",
     "text": [
      "===== Policy Function F =====\n",
      "Fo from \"Robustness\": \n",
      " [[-1.068  0.134 -0.058]]\n",
      "Fo from olrp: \n",
      " [[-10.75    0.11   -0.064]]\n",
      "Fb from \"Robustness\": \n",
      " [[-3.279  0.233 -0.029]]\n",
      "Fb from olrprobust: \n",
      " [[-3.279  0.233 -0.029]]\n",
      "\n",
      "\n",
      "===== Value Function P =====\n",
      "Po from \"Robustness\": \n",
      " [[-1.40911542e+18 -3.06240000e+01 -2.33500000e+01]\n",
      " [-3.06240000e+01  2.77700000e+00 -2.84200000e+00]\n",
      " [-2.33500000e+01 -2.84200000e+00 -4.90000000e-01]]\n",
      "Po from olrp: \n",
      " [[-64900.489   -317.75    -132.728]\n",
      " [  -317.75       3.242     -2.094]\n",
      " [  -132.728     -2.094     -0.495]]\n",
      "Pb from \"Robustness\": \n",
      " [[-3170.206  -130.973   -13.402]\n",
      " [ -130.973     6.335    -1.22 ]\n",
      " [  -13.402    -1.22     -0.088]]\n",
      "Pb from olrprobust: \n",
      " [[-3170.206  -130.973   -13.402]\n",
      " [ -130.973     6.335    -1.22 ]\n",
      " [  -13.402    -1.22     -0.088]]\n"
     ]
    }
   ],
   "source": [
    "from olrp import olrp\n",
    "from olrprobust import olrprobust\n",
    "\n",
    "Fo2, Po2 = olrp(β,A,B,R,Q)\n",
    "Fb2, Kb2, Pb2,_ = olrprobust(β,A,B,C,R,Q,-1/θ) # sig = -1/theta\n",
    "\n",
    "# Print results\n",
    "np.set_printoptions(suppress=True)\n",
    "\n",
    "print('===== Policy Function F =====')\n",
    "print('Fo from \"Robustness\": \\n', np.round(Fo,3))\n",
    "print('Fo from olrp: \\n', np.round(Fo2,3))\n",
    "print('Fb from \"Robustness\": \\n', np.round(Fb,3))\n",
    "print('Fb from olrprobust: \\n', np.round(Fb2,3))\n",
    "print('\\n')\n",
    "print('===== Value Function P =====')\n",
    "print('Po from \"Robustness\": \\n', np.round(Po,3))\n",
    "print('Po from olrp: \\n', np.round(Po2,3))\n",
    "print('Pb from \"Robustness\": \\n', np.round(Pb,3))\n",
    "print('Pb from olrprobust: \\n', np.round(Pb2,3))\n"
   ]
  },
  {
   "cell_type": "markdown",
   "metadata": {},
   "source": [
    "We can see that the ordinary `LQ` decision rules are significantly different from those by `olrp`. \n",
    "\n",
    "However, with a concern of robustness the results are the same between \"Robustness\" and `olrprobust`.\n",
    "\n",
    "That means the issue comes from calculating stationary values in the ordinary LQ control problem, which is `qe.lqcontrol.LQ.stationary_values`.\n",
    "\n",
    "Now let's use the ordinary decision rules from `olrp` and re-plot the graph."
   ]
  },
  {
   "cell_type": "markdown",
   "metadata": {},
   "source": [
    "## 3. Plot the graph with `olrp` and `olrprobust` decision rules"
   ]
  },
  {
   "cell_type": "code",
   "execution_count": 3,
   "metadata": {},
   "outputs": [
    {
     "data": {
      "image/png": "[encoded data removed]",
      "text/plain": [
       "<matplotlib.figure.Figure at 0x1134a089d68>"
      ]
     },
     "metadata": {},
     "output_type": "display_data"
    }
   ],
   "source": [
    "optimal_best_case = value_and_entropy(emax, Fo2, 'best')\n",
    "robust_best_case = value_and_entropy(emax, Fb2, 'best')\n",
    "optimal_worst_case = value_and_entropy(emax, Fo2, 'worst')\n",
    "robust_worst_case = value_and_entropy(emax, Fb2, 'worst')\n",
    "\n",
    "fig, ax = plt.subplots(figsize=(11,8))\n",
    "\n",
    "ax.set_xlim(0, emax)\n",
    "ax.set_ylabel(\"Value\")\n",
    "ax.set_xlabel(\"Entropy\")\n",
    "ax.grid()\n",
    "\n",
    "for axis in 'x', 'y':\n",
    "    plt.ticklabel_format(style='sci', axis=axis, scilimits=(0, 0))\n",
    "\n",
    "plot_args = {'lw': 2, 'alpha': 0.7}\n",
    "\n",
    "colors = 'r', 'b'\n",
    "\n",
    "df_pairs = ((optimal_best_case, optimal_worst_case),\n",
    "            (robust_best_case, robust_worst_case))\n",
    "\n",
    "\n",
    "class Curve:\n",
    "\n",
    "    def __init__(self, x, y):\n",
    "        self.x, self.y = x, y\n",
    "\n",
    "    def __call__(self, z):\n",
    "        return np.interp(z, self.x, self.y)\n",
    "\n",
    "\n",
    "for c, df_pair in zip(colors, df_pairs):\n",
    "    curves = []\n",
    "    for df in df_pair:\n",
    "        # == Plot curves == #\n",
    "        x, y = df['entropy'], df['value']\n",
    "        x, y = (np.asarray(a, dtype='float') for a in (x, y))\n",
    "        egrid = np.linspace(0, emax, 100)\n",
    "        curve = Curve(x, y)\n",
    "        ax.plot(egrid, curve(egrid), color=c, **plot_args)\n",
    "        curves.append(curve)\n",
    "    # == Color fill between curves == #\n",
    "    ax.fill_between(egrid,\n",
    "                    curves[0](egrid),\n",
    "                    curves[1](egrid),\n",
    "                    color=c, alpha=0.1)\n",
    "\n",
    "plt.show()"
   ]
  },
  {
   "cell_type": "markdown",
   "metadata": {},
   "source": [
    "The resulting graph is consistent with the graph from \"Robustness\"."
   ]
  },
  {
   "cell_type": "code",
   "execution_count": null,
   "metadata": {
    "collapsed": true
   },
   "outputs": [],
   "source": []
  }
 ],
 "metadata": {
  "kernelspec": {
   "display_name": "Python 3",
   "language": "python",
   "name": "python3"
  },
  "language_info": {
   "codemirror_mode": {
    "name": "ipython",
    "version": 3
   },
   "file_extension": ".py",
   "mimetype": "text/x-python",
   "name": "python",
   "nbconvert_exporter": "python",
   "pygments_lexer": "ipython3",
   "version": "3.6.4"
  }
 },
 "nbformat": 4,
 "nbformat_minor": 2
}
