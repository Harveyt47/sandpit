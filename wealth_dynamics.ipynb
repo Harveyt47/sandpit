{
 "cells": [
  {
   "cell_type": "markdown",
   "metadata": {},
   "source": [
    "## Wealth Distributions\n",
    "\n",
    "### Constant Savings Rate, Impact of Volatility"
   ]
  },
  {
   "cell_type": "code",
   "execution_count": 1,
   "metadata": {},
   "outputs": [],
   "source": [
    "import numpy as np\n",
    "from numba import jit, njit, prange\n",
    "import matplotlib.pyplot as plt\n"
   ]
  },
  {
   "cell_type": "markdown",
   "metadata": {},
   "source": [
    "### Lorenz Curves and Gini Coefficient\n",
    "\n"
   ]
  },
  {
   "cell_type": "markdown",
   "metadata": {},
   "source": [
    "A function to produce Lorenz curves"
   ]
  },
  {
   "cell_type": "code",
   "execution_count": 2,
   "metadata": {},
   "outputs": [],
   "source": [
    "@njit\n",
    "def lorenz(y):\n",
    "    n = len(y)\n",
    "    y = np.sort(y)\n",
    "    s = np.zeros(n+1)\n",
    "    s[1:] = np.cumsum(y)\n",
    "    f_vals = np.zeros(n+1)\n",
    "    l_vals = np.zeros(n+1)\n",
    "    for i in range(1, n+1):\n",
    "        f_vals[i] = i/n\n",
    "        l_vals[i] = s[i] / s[n]\n",
    "    return f_vals, l_vals"
   ]
  },
  {
   "cell_type": "markdown",
   "metadata": {},
   "source": [
    "A function to calculate the Gini coefficient"
   ]
  },
  {
   "cell_type": "code",
   "execution_count": 3,
   "metadata": {},
   "outputs": [],
   "source": [
    "@njit(parallel=True)\n",
    "def gini(y):\n",
    "    n = len(y)\n",
    "    i_sum = np.zeros(n)\n",
    "    for i in prange(n):\n",
    "        for j in range(n):\n",
    "            i_sum[i] += abs(y[i] - y[j])\n",
    "    return np.sum(i_sum) / (2 * n * np.sum(y))"
   ]
  },
  {
   "cell_type": "markdown",
   "metadata": {},
   "source": [
    "### Dynamics"
   ]
  },
  {
   "cell_type": "markdown",
   "metadata": {},
   "source": [
    "The model is\n",
    "\n",
    "$$ w_{t+1} = (1 + r_{t+1}) s_0 w_t + y_{t+1} $$\n",
    "\n",
    "where\n",
    "\n",
    "* $w_t$ is wealth at time $t$ for a given household,\n",
    "* $r_t$ is the rate of return of financial assets,\n",
    "* $y_t$ is current non-financial (e.g., labor) income and\n",
    "* $s_0$ is a savings rate\n",
    "\n",
    "\n",
    "Letting $\\{z_t\\}$ be a correlated state process of the form\n",
    "\n",
    "$$ z_{t+1} = a z_t + b + \\sigma_z \\epsilon_{t+1} $$\n",
    "\n",
    "we'll assume that\n",
    "\n",
    "$$ \\ln R_t = \\mu_r + c_r \\exp(z_t) \\xi_t $$\n",
    "\n",
    "and \n",
    "\n",
    "$$ y_t = c_y \\exp(z_t) + \\exp(\\mu_y + \\sigma_y \\zeta_t) $$\n",
    "\n",
    "Here $\\{ (\\epsilon_t, \\xi_t, \\zeta_t) \\}$ is IID and standard normal in $\\mathbb R^3$.\n"
   ]
  },
  {
   "cell_type": "code",
   "execution_count": 17,
   "metadata": {},
   "outputs": [],
   "source": [
    "class WealthDynamics:\n",
    "    \n",
    "    def __init__(self,\n",
    "                 s_0=0.75,    # savings parameter\n",
    "                 c_y=1.0,     # labor income parameter\n",
    "                 μ_y=1.5,     # labor income paraemter\n",
    "                 σ_y=0.2,     # labor income parameter\n",
    "                 μ_r=0.0,     # rate of return parameter\n",
    "                 c_r=0.5,     # rate of return parameter\n",
    "                 a=0.9,       # z shock parameter\n",
    "                 b=0.0,       # z shock parameter\n",
    "                 σ_z=0.1):    # z shock parameter\n",
    "    \n",
    "        # Boilerplate\n",
    "        self.s_0 = s_0\n",
    "        self.c_y, self.μ_y, self.σ_y = c_y, μ_y, σ_y\n",
    "        self.c_r, self.μ_r = c_r, μ_r\n",
    "        self.a, self.b, self.σ_z = a, b, σ_z\n",
    "        \n",
    "        # Record stationary moments\n",
    "        self.z_mean = b / (1 - a)\n",
    "        self.z_var = σ_z**2 / (1 - a**2)\n",
    "        exp_z_mean = np.exp(self.z_mean + self.z_var / 2)\n",
    "        \n",
    "        # Compute stationary mean for R and Y by MC\n",
    "        \n",
    "\n",
    "        \n",
    "        # Test stability condition, compute estimate of the stationary\n",
    "        # mean of w_t\n",
    "        α = self.R_mean * self.s_0\n",
    "        if α < 1:\n",
    "            print(f\"Generated instance with stability coefficient α = {α}\")\n",
    "            self.w_bar = self.y_mean / (1 - α)\n",
    "        else:\n",
    "            raise ValueError(f\"Stability condition failed with α = {α}\")\n",
    "            \n",
    "    def compute_stationary_means(self):\n",
    "        # Unpack parameters\n",
    "        params = self.parameters()\n",
    "        s_0, c_y, μ_y, σ_y, c_r, μ_r, a, b, σ_z = params\n",
    "                \n",
    "        @njit\n",
    "        def csm(        mc_size = 10_000\n",
    "):\n",
    "            z_draws = self.z_mean + np.sqrt(self.z_var) * np.random.randn(mc_size)\n",
    "            ξ_draws = np.random.randn(mc_size)\n",
    "            R_mean = 0.0\n",
    "            Y_mean = 0.0\n",
    "            for z in z_draws:\n",
    "                for ξ in ξ_draws:\n",
    "                    R_mean += np.exp(μ_r + c_r ) * z * ξ\n",
    "                    Y_mean += c_y * np.exp(z) + np.exp(μ_y + σ_y * ξ)\n",
    "            R_mean = R_mean / (mc_size**2)\n",
    "            Y_mean = Y_mean / (mc_size**2)\n",
    "\n",
    "    def parameters(self):\n",
    "        \"\"\"\n",
    "        Collect and return parameters.\n",
    "        \"\"\"\n",
    "        parameters = (self.s_0, \n",
    "                      self.c_y, self.μ_y, self.σ_y,\n",
    "                      self.c_r, self.μ_r,\n",
    "                      self.a, self.b, self.σ_z)\n",
    "        return parameters\n",
    "        \n",
    "    def update_function_builder(self):\n",
    "        \"\"\"\n",
    "        A function factory that returns a function with one task:\n",
    "        update wealth from w_t to w_{t+1}.\n",
    "        \"\"\"\n",
    "        # Unpack parameters\n",
    "        params = self.parameters()\n",
    "        s_0, c_y, μ_y, σ_y, c_r, μ_r, a, b, σ_z = params\n",
    "                \n",
    "        @njit\n",
    "        def update_z(z):\n",
    "            \"\"\"\n",
    "            Update exogenous state one period, given current state z.\n",
    "            \"\"\"   \n",
    "            zp = a * z + b + σ_z * np.random.randn()\n",
    "            return zp\n",
    "        \n",
    "        @njit\n",
    "        def update_w(w, z):\n",
    "            \"\"\"\n",
    "            Update one period, given current wealth w and next period \n",
    "            exogenous state zp.\n",
    "            \"\"\"   \n",
    "            y = c_y * np.exp(z) + np.exp(μ_y + σ_y * np.random.randn())   \n",
    "            R = np.exp(μ_r + c_r * np.exp(z) * np.random.randn())\n",
    "            wp = R * s_0 * w + y\n",
    "            return wp\n",
    "        \n",
    "        return update_z, update_w\n",
    "    "
   ]
  },
  {
   "cell_type": "markdown",
   "metadata": {},
   "source": [
    "Here's a function to simulate wealth of a single household."
   ]
  },
  {
   "cell_type": "code",
   "execution_count": 18,
   "metadata": {},
   "outputs": [],
   "source": [
    "@njit\n",
    "def wealth_time_series(w_0, z_0, g, h, ts_length=10_000):\n",
    "    \"\"\"\n",
    "    Generate a single time series for wealth.\n",
    "    \"\"\"\n",
    "    z = np.empty(ts_length)\n",
    "    z[0] = z_0\n",
    "    w = np.empty(ts_length)\n",
    "    w[0] = w_0\n",
    "    for t in range(ts_length-1):\n",
    "        z[t+1] = g(z[t])\n",
    "        w[t+1] = h(w[t], z[t+1])\n",
    "    return w"
   ]
  },
  {
   "cell_type": "markdown",
   "metadata": {},
   "source": [
    "Here's a function to simulate a cross section."
   ]
  },
  {
   "cell_type": "code",
   "execution_count": 19,
   "metadata": {},
   "outputs": [],
   "source": [
    "def cross_section(wd, w_distribution, z_0, shift_length=500):\n",
    "    \"\"\"\n",
    "    Takes a current distribution of wealth values as w_distribution\n",
    "    and updates each w_t in w_distribution to w_{t+j}, where \n",
    "    j = shift_length.  \n",
    "    \n",
    "    The parameter wd is an instance of WealthDynamics\n",
    "    \n",
    "    The value z_0 is the initial condition of the aggregate state.\n",
    "    \n",
    "    Returns the new distribution.\n",
    "    \"\"\"\n",
    "    n = len(w_distribution)\n",
    "\n",
    "    g, h = wd.update_function_builder()\n",
    "    z = z_time_series(z_0, g, ts_length=shift_length)\n",
    "\n",
    "    @njit(parallel=True)\n",
    "    def simulate_forward(out_distribution):\n",
    "        \n",
    "        # Update each household\n",
    "        for i in prange(n):\n",
    "            w = w_distribution[i]\n",
    "            for t in range(shift_length-1):\n",
    "                w = h(w, z[t+1])\n",
    "            out_distribution[i] = w\n",
    "        return out_distribution\n",
    "\n",
    "    return simulate_forward(np.empty(n))"
   ]
  },
  {
   "cell_type": "markdown",
   "metadata": {},
   "source": [
    "### Experiments"
   ]
  },
  {
   "cell_type": "markdown",
   "metadata": {},
   "source": [
    "Let's look at the wealth dynamics of an individual household.  "
   ]
  },
  {
   "cell_type": "code",
   "execution_count": 20,
   "metadata": {},
   "outputs": [
    {
     "name": "stdout",
     "output_type": "stream",
     "text": [
      "Generated instance with stability coefficient α = 7.400739280103743e-06\n"
     ]
    },
    {
     "ename": "AttributeError",
     "evalue": "'WealthDynamics' object has no attribute 'y_mean'",
     "output_type": "error",
     "traceback": [
      "\u001b[0;31m---------------------------------------------------------------------\u001b[0m",
      "\u001b[0;31mAttributeError\u001b[0m                      Traceback (most recent call last)",
      "\u001b[0;32m<ipython-input-20-74955c022f1e>\u001b[0m in \u001b[0;36m<module>\u001b[0;34m()\u001b[0m\n\u001b[0;32m----> 1\u001b[0;31m \u001b[0mwd\u001b[0m \u001b[0;34m=\u001b[0m \u001b[0mWealthDynamics\u001b[0m\u001b[0;34m(\u001b[0m\u001b[0;34m)\u001b[0m\u001b[0;34m\u001b[0m\u001b[0m\n\u001b[0m\u001b[1;32m      2\u001b[0m \u001b[0;34m\u001b[0m\u001b[0m\n\u001b[1;32m      3\u001b[0m \u001b[0mg\u001b[0m\u001b[0;34m,\u001b[0m \u001b[0mh\u001b[0m \u001b[0;34m=\u001b[0m \u001b[0mwd\u001b[0m\u001b[0;34m.\u001b[0m\u001b[0mupdate_function_builder\u001b[0m\u001b[0;34m(\u001b[0m\u001b[0;34m)\u001b[0m\u001b[0;34m\u001b[0m\u001b[0m\n\u001b[1;32m      4\u001b[0m \u001b[0mz\u001b[0m \u001b[0;34m=\u001b[0m \u001b[0mz_time_series\u001b[0m\u001b[0;34m(\u001b[0m\u001b[0;36m0.0\u001b[0m\u001b[0;34m,\u001b[0m \u001b[0mg\u001b[0m\u001b[0;34m,\u001b[0m \u001b[0mts_length\u001b[0m\u001b[0;34m=\u001b[0m\u001b[0;36m100_000\u001b[0m\u001b[0;34m)\u001b[0m\u001b[0;34m\u001b[0m\u001b[0m\n\u001b[1;32m      5\u001b[0m \u001b[0mw\u001b[0m \u001b[0;34m=\u001b[0m \u001b[0mwealth_time_series\u001b[0m\u001b[0;34m(\u001b[0m\u001b[0mwd\u001b[0m\u001b[0;34m.\u001b[0m\u001b[0my_mean\u001b[0m\u001b[0;34m,\u001b[0m \u001b[0mz\u001b[0m\u001b[0;34m,\u001b[0m \u001b[0mh\u001b[0m\u001b[0;34m)\u001b[0m\u001b[0;34m\u001b[0m\u001b[0m\n",
      "\u001b[0;32m<ipython-input-17-4fc775a709a0>\u001b[0m in \u001b[0;36m__init__\u001b[0;34m(self, s_0, c_y, μ_y, σ_y, μ_r, c_r, a, b, σ_z)\u001b[0m\n\u001b[1;32m     42\u001b[0m         \u001b[0;32mif\u001b[0m \u001b[0mα\u001b[0m \u001b[0;34m<\u001b[0m \u001b[0;36m1\u001b[0m\u001b[0;34m:\u001b[0m\u001b[0;34m\u001b[0m\u001b[0m\n\u001b[1;32m     43\u001b[0m             \u001b[0mprint\u001b[0m\u001b[0;34m(\u001b[0m\u001b[0;34mf\"Generated instance with stability coefficient α = {α}\"\u001b[0m\u001b[0;34m)\u001b[0m\u001b[0;34m\u001b[0m\u001b[0m\n\u001b[0;32m---> 44\u001b[0;31m             \u001b[0mself\u001b[0m\u001b[0;34m.\u001b[0m\u001b[0mw_bar\u001b[0m \u001b[0;34m=\u001b[0m \u001b[0mself\u001b[0m\u001b[0;34m.\u001b[0m\u001b[0my_mean\u001b[0m \u001b[0;34m/\u001b[0m \u001b[0;34m(\u001b[0m\u001b[0;36m1\u001b[0m \u001b[0;34m-\u001b[0m \u001b[0mα\u001b[0m\u001b[0;34m)\u001b[0m\u001b[0;34m\u001b[0m\u001b[0m\n\u001b[0m\u001b[1;32m     45\u001b[0m         \u001b[0;32melse\u001b[0m\u001b[0;34m:\u001b[0m\u001b[0;34m\u001b[0m\u001b[0m\n\u001b[1;32m     46\u001b[0m             \u001b[0;32mraise\u001b[0m \u001b[0mValueError\u001b[0m\u001b[0;34m(\u001b[0m\u001b[0;34mf\"Stability condition failed with α = {α}\"\u001b[0m\u001b[0;34m)\u001b[0m\u001b[0;34m\u001b[0m\u001b[0m\n",
      "\u001b[0;31mAttributeError\u001b[0m: 'WealthDynamics' object has no attribute 'y_mean'"
     ]
    }
   ],
   "source": [
    "wd = WealthDynamics()\n",
    "\n",
    "g, h = wd.update_function_builder()\n",
    "z = z_time_series(0.0, g, ts_length=100_000)\n",
    "w = wealth_time_series(wd.y_mean, z, h)\n",
    "\n",
    "fig, ax = plt.subplots()\n",
    "ax.plot(w)\n",
    "plt.show()"
   ]
  },
  {
   "cell_type": "markdown",
   "metadata": {},
   "source": [
    "### Application II: Inequality Measures\n",
    "\n",
    "Let's look at how inequality varies with returns on financial assets."
   ]
  },
  {
   "cell_type": "markdown",
   "metadata": {},
   "source": [
    "First we need a function to simulate a cross section of households forward in time."
   ]
  },
  {
   "cell_type": "markdown",
   "metadata": {},
   "source": [
    "The next function generates a cross section and then computes the Lorenz curve and Gini coefficient."
   ]
  },
  {
   "cell_type": "code",
   "execution_count": null,
   "metadata": {},
   "outputs": [],
   "source": [
    "def generate_lorenz_and_gini(wd, num_households=250_000, T=500):\n",
    "    \"\"\"\n",
    "    Generate the Lorenz curve data and gini coefficient corresponding to a \n",
    "    WealthDynamics mode by simulating num_households forward to time T.\n",
    "    \"\"\"\n",
    "    ψ_0 = np.ones(num_households) * wd.y_mean\n",
    "    z_0 = wd.z_mean\n",
    "\n",
    "    ψ_star = cross_section(wd, ψ_0, z_0, shift_length=T)\n",
    "    return gini(ψ_star), lorenz(ψ_star)"
   ]
  },
  {
   "cell_type": "markdown",
   "metadata": {},
   "source": [
    "Here's the Lorenz curves as a function of $\\mu_r$, a parameter that shifts up mean returns."
   ]
  },
  {
   "cell_type": "code",
   "execution_count": null,
   "metadata": {},
   "outputs": [],
   "source": [
    "fig, ax = plt.subplots(figsize=(6, 6))\n",
    "μ_r_vals = np.linspace(0.0, 0.05, 3)\n",
    "gini_vals = []\n",
    "\n",
    "for μ_r in μ_r_vals:\n",
    "    wd = WealthDynamics(μ_r=μ_r)\n",
    "    gv, (f_vals, l_vals) = generate_lorenz_and_gini(wd)\n",
    "    ax.plot(f_vals, l_vals, label=f'$\\psi^*$ at $\\mu_r = {μ_r:0.2}$')\n",
    "    gini_vals.append(gv)\n",
    "    \n",
    "ax.plot(f_vals, f_vals, label='equality')\n",
    "ax.legend()\n",
    "plt.show()"
   ]
  },
  {
   "cell_type": "markdown",
   "metadata": {},
   "source": [
    "Here's the Gini coefficient.  Look how inequality."
   ]
  },
  {
   "cell_type": "code",
   "execution_count": null,
   "metadata": {
    "scrolled": false
   },
   "outputs": [],
   "source": [
    "fig, ax = plt.subplots(figsize=(6, 6))    \n",
    "ax.plot(μ_r_vals, gini_vals, label='gini coefficient')\n",
    "ax.set_xlabel(\"volatility term in returns\")\n",
    "ax.legend()\n",
    "plt.show()"
   ]
  },
  {
   "cell_type": "code",
   "execution_count": null,
   "metadata": {},
   "outputs": [],
   "source": []
  }
 ],
 "metadata": {
  "kernelspec": {
   "display_name": "Python 3",
   "language": "python",
   "name": "python3"
  },
  "language_info": {
   "codemirror_mode": {
    "name": "ipython",
    "version": 3
   },
   "file_extension": ".py",
   "mimetype": "text/x-python",
   "name": "python",
   "nbconvert_exporter": "python",
   "pygments_lexer": "ipython3",
   "version": "3.6.4"
  }
 },
 "nbformat": 4,
 "nbformat_minor": 2
}
