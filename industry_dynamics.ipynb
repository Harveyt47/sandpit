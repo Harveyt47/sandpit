{
 "cells": [
  {
   "cell_type": "code",
   "execution_count": 41,
   "metadata": {},
   "outputs": [],
   "source": [
    "import numpy as np\n",
    "import quantecon as qe\n",
    "from numba import njit"
   ]
  },
  {
   "cell_type": "markdown",
   "metadata": {},
   "source": [
    "The state process is\n",
    "\n",
    "$$ y_{t+1} = \\rho y_t + b + \\xi_{t+1} $$\n",
    "\n",
    "where $-1 < \\rho < 1$ and $\\{ \\xi_t \\}$ is iid and uniform on $[-\\sigma, \\sigma]$"
   ]
  },
  {
   "cell_type": "code",
   "execution_count": null,
   "metadata": {},
   "outputs": [],
   "source": [
    "ρ = 0.5\n",
    "b = 10.0\n",
    "σ = 0.5"
   ]
  },
  {
   "cell_type": "markdown",
   "metadata": {},
   "source": [
    "The discount rate:"
   ]
  },
  {
   "cell_type": "code",
   "execution_count": 72,
   "metadata": {},
   "outputs": [],
   "source": [
    "β = 0.9"
   ]
  },
  {
   "cell_type": "markdown",
   "metadata": {},
   "source": [
    "Entry costs:"
   ]
  },
  {
   "cell_type": "code",
   "execution_count": 73,
   "metadata": {},
   "outputs": [],
   "source": [
    "def ϕ(n):\n",
    "    return n**2"
   ]
  },
  {
   "cell_type": "markdown",
   "metadata": {},
   "source": [
    "Profit function, with parameters:"
   ]
  },
  {
   "cell_type": "code",
   "execution_count": 82,
   "metadata": {},
   "outputs": [],
   "source": [
    "d = 5.0\n",
    "α = 2.0\n",
    "\n",
    "def π(n, y):\n",
    "    return d + y - n**α"
   ]
  },
  {
   "cell_type": "markdown",
   "metadata": {},
   "source": [
    "The stationary distribution for $y_t$ is supported on the interval\n",
    "\n",
    "$$ I := \\left[ \\frac{b - \\sigma}{1 - \\rho}, \\, \\frac{b + \\sigma}{1 - \\rho} \\right] $$\n",
    "\n",
    "Grid over $y$ values, covering the stationary distribution:"
   ]
  },
  {
   "cell_type": "code",
   "execution_count": 83,
   "metadata": {},
   "outputs": [],
   "source": [
    "y_min = (b - σ) / (1 - ρ)\n",
    "y_max = (b + σ) / (1 - ρ)\n",
    "y_grid_size = 5\n",
    "y_grid = np.linspace(y_min, y_max, y_grid_size)"
   ]
  },
  {
   "cell_type": "markdown",
   "metadata": {},
   "source": [
    "Set `n_max` to the first $n$ such that profits are negative for all possible values of $y_t$."
   ]
  },
  {
   "cell_type": "code",
   "execution_count": 84,
   "metadata": {},
   "outputs": [],
   "source": [
    "n_max = np.int(np.ceil((d + y_max**(1/α))))"
   ]
  },
  {
   "cell_type": "code",
   "execution_count": 85,
   "metadata": {},
   "outputs": [
    {
     "data": {
      "text/plain": [
       "10"
      ]
     },
     "execution_count": 85,
     "metadata": {},
     "output_type": "execute_result"
    }
   ],
   "source": [
    "n_max"
   ]
  },
  {
   "cell_type": "code",
   "execution_count": 71,
   "metadata": {},
   "outputs": [],
   "source": [
    "n_size = n_max + 1"
   ]
  },
  {
   "cell_type": "code",
   "execution_count": 53,
   "metadata": {},
   "outputs": [],
   "source": [
    "v_E = np.zeros((n_size, y_size))"
   ]
  },
  {
   "cell_type": "code",
   "execution_count": null,
   "metadata": {},
   "outputs": [],
   "source": [
    "def last_firm_bellman(f_in):\n",
    "    f_out = np.empty_like(f_in)\n",
    "    for y in y_vec:\n",
    "        t = ρ * sum([(π(n_max, yp) + f_in[]])"
   ]
  }
 ],
 "metadata": {
  "kernelspec": {
   "display_name": "Python 3",
   "language": "python",
   "name": "python3"
  },
  "language_info": {
   "codemirror_mode": {
    "name": "ipython",
    "version": 3
   },
   "file_extension": ".py",
   "mimetype": "text/x-python",
   "name": "python",
   "nbconvert_exporter": "python",
   "pygments_lexer": "ipython3",
   "version": "3.6.4"
  }
 },
 "nbformat": 4,
 "nbformat_minor": 2
}
