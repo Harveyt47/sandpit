{
 "cells": [
  {
   "cell_type": "markdown",
   "metadata": {},
   "source": [
    "## Very Simple Markov Perfect Industry Dynamics\n",
    "\n",
    "#### John Stachurski"
   ]
  },
  {
   "cell_type": "code",
   "execution_count": 1,
   "metadata": {},
   "outputs": [],
   "source": [
    "import numpy as np\n",
    "import quantecon as qe\n",
    "from numba import njit\n",
    "from lininterp import interp1d\n",
    "import matplotlib.pyplot as plt"
   ]
  },
  {
   "cell_type": "markdown",
   "metadata": {},
   "source": [
    "The state process is\n",
    "\n",
    "$$ y_{t+1} = \\rho y_t + b + \\xi_{t+1} $$\n",
    "\n",
    "where $-1 < \\rho < 1$ and $\\{ \\xi_t \\}$ is iid and uniform on $[-\\sigma, \\sigma]$\n",
    "\n",
    "\n",
    "The parameters in this process are set to"
   ]
  },
  {
   "cell_type": "code",
   "execution_count": 21,
   "metadata": {},
   "outputs": [],
   "source": [
    "ρ = 0.9\n",
    "b = 4.0\n",
    "σ = 1.0"
   ]
  },
  {
   "cell_type": "markdown",
   "metadata": {},
   "source": [
    "Iterating on the bound $y_{t+1} \\leq \\rho y_t + b + \\sigma$ yields\n",
    "\n",
    "$$\n",
    "    y_{t+1} \\leq (b + \\sigma) \\frac{1 - \\rho^{t+1}}{1 - \\rho} + \\rho^{t+1} y_0\n",
    "$$\n",
    "\n",
    "Taking the limit in this expression and then repeating the exercise with the reverse bound $y_{t+1} \\geq \\rho y_t + b - \\sigma$, we find\n",
    "that the stationary distribution for $y_t$ is supported on the interval\n",
    "\n",
    "$$ I := \\left[ \\frac{b - \\sigma}{1 - \\rho}, \\, \\frac{b + \\sigma}{1 - \\rho} \\right] $$\n",
    "\n",
    "Let's set up a grid over $y$ values, covering the stationary distribution, which we can use to interpolate functions over:"
   ]
  },
  {
   "cell_type": "code",
   "execution_count": 22,
   "metadata": {},
   "outputs": [],
   "source": [
    "y_min = (b - σ) / (1 - ρ)\n",
    "y_max = (b + σ) / (1 - ρ)\n",
    "y_grid_size = 10\n",
    "y_grid = np.linspace(y_min, y_max, y_grid_size)"
   ]
  },
  {
   "cell_type": "markdown",
   "metadata": {},
   "source": [
    "We'll use draws from the innovation $\\xi$ to integrate via Monte Carlo:"
   ]
  },
  {
   "cell_type": "code",
   "execution_count": 23,
   "metadata": {},
   "outputs": [],
   "source": [
    "mc_size = 100\n",
    "ξ_draws = np.random.uniform(low=-σ, high=σ, size=mc_size)"
   ]
  },
  {
   "cell_type": "markdown",
   "metadata": {},
   "source": [
    "The discount rate is"
   ]
  },
  {
   "cell_type": "code",
   "execution_count": 24,
   "metadata": {},
   "outputs": [],
   "source": [
    "β = 0.9"
   ]
  },
  {
   "cell_type": "markdown",
   "metadata": {},
   "source": [
    "Entry costs are increasing in the number of firms and decreasing in the state:"
   ]
  },
  {
   "cell_type": "code",
   "execution_count": 79,
   "metadata": {},
   "outputs": [],
   "source": [
    "def ϕ(n, y):\n",
    "    return np.exp(4.0 * n - 0.5 * y)"
   ]
  },
  {
   "cell_type": "markdown",
   "metadata": {},
   "source": [
    "The profit function $\\pi$ is decreasing in the number of firms and increasing in the exogenous state:"
   ]
  },
  {
   "cell_type": "code",
   "execution_count": 94,
   "metadata": {},
   "outputs": [],
   "source": [
    "d = 1.0\n",
    "γ = 2.0\n",
    "\n",
    "def π(n, y):\n",
    "    return d * y - n**γ"
   ]
  },
  {
   "cell_type": "markdown",
   "metadata": {},
   "source": [
    "Set `n_max` to the first $n$ such that profits are negative for all possible values of $y_t$."
   ]
  },
  {
   "cell_type": "code",
   "execution_count": 95,
   "metadata": {},
   "outputs": [],
   "source": [
    "n_max = np.int(np.ceil((d * y_max**(1/γ))))\n",
    "n_size = n_max + 1"
   ]
  },
  {
   "cell_type": "code",
   "execution_count": 96,
   "metadata": {},
   "outputs": [
    {
     "data": {
      "text/plain": [
       "8"
      ]
     },
     "execution_count": 96,
     "metadata": {},
     "output_type": "execute_result"
    }
   ],
   "source": [
    "n_max"
   ]
  },
  {
   "cell_type": "markdown",
   "metadata": {},
   "source": [
    "In the text, `n_max` will be represented by $\\bar n$."
   ]
  },
  {
   "cell_type": "markdown",
   "metadata": {},
   "source": [
    "First we solve for $v_E(\\bar n, \\cdot)$ as the fixed point of\n",
    "\n",
    "$$ (Tf)(y) = \n",
    "   \\max \n",
    "   \\left\\{\n",
    "       0, \\, \\beta \\, \\mathbb E_y \n",
    "        [ \\pi(\\bar n, Y') + \n",
    "           f(Y')\n",
    "        ]\n",
    "   \\right\\}\n",
    "$$\n",
    "         \n",
    "\n",
    "Next, for $n = \\bar n -1, \\bar n - 2, \\ldots, 1$, we solve the family of contractions\n",
    "\n",
    "$$ (T_n f)(y) = \n",
    "   \\max \n",
    "   \\left\\{\n",
    "       0, \\, \\beta  \\, \\mathbb E_y \n",
    "        [ \\pi(n, Y') + \n",
    "           \\mathbb 1\\{\\mu(n, Y') = n\\} f(Y') +\n",
    "           \\mathbb 1\\{\\mu(n, Y') > n\\} g_n(Y')\n",
    "        ]\n",
    "   \\right\\}\n",
    "$$\n",
    "\n",
    "Here\n",
    "\n",
    "* $g_n(Y') := v_E(\\mu(n, Y'), Y')$\n",
    "* $\\mu(n, y) := n + \\sum_{m=n+1}^{\\bar n} \\mathbb 1\\{v_E(m, y) > \\phi(m, y)\\}$ where $v_E(m, \\cdot)$ is the fixed point of $T_m$"
   ]
  },
  {
   "cell_type": "markdown",
   "metadata": {},
   "source": [
    "The expectations above will be approximated by Monte Carlo estimates of the form\n",
    "\n",
    "$$\n",
    "    \\hat E_y [ h(Y')]\n",
    "     := \\frac{1}{m} \\sum_{i=1}^m\n",
    "         [ h( \\rho y + b + \\xi_i) ]\n",
    "$$\n"
   ]
  },
  {
   "cell_type": "code",
   "execution_count": 97,
   "metadata": {},
   "outputs": [],
   "source": [
    "def μ(n, y, v_E):\n",
    "    μ_n = n\n",
    "    if n < n_max:\n",
    "        for m in range(n + 1, n_size):  \n",
    "            if interp1d(y_grid, v_E[m, :], y) > ϕ(m, y):\n",
    "                μ_n += 1\n",
    "    return μ_n"
   ]
  },
  {
   "cell_type": "code",
   "execution_count": 98,
   "metadata": {},
   "outputs": [],
   "source": [
    "def build_bellman_operator(v_E, n):\n",
    "    \n",
    "    def firm_bellman(f_in):\n",
    "        # Set up\n",
    "        def f(x):\n",
    "            return interp1d(y_grid, f_in, x)\n",
    "        f_out = np.empty_like(f_in)\n",
    "\n",
    "        for i, y in enumerate(y_grid):\n",
    "            t = 0.0\n",
    "            for ξ in ξ_draws:\n",
    "                yp = ρ * y + b + ξ\n",
    "                t += π(n, yp) \n",
    "                μ_n = μ(n, yp, v_E)\n",
    "                if μ_n == n:\n",
    "                    t += f(yp)\n",
    "                else:\n",
    "                    t += interp1d(y_grid, v_E[μ_n, :], yp)\n",
    "            f_out[i] = max(0, β * (t / mc_size))\n",
    "        return f_out\n",
    "    \n",
    "    return firm_bellman\n"
   ]
  },
  {
   "cell_type": "code",
   "execution_count": 99,
   "metadata": {},
   "outputs": [],
   "source": [
    "def iterate(operator, tol=0.0001, max_iter=500):\n",
    "    error = tol + 1\n",
    "    i = 0\n",
    "    f_in = np.zeros(y_grid_size)\n",
    "    while i < max_iter and error > tol:\n",
    "        f_out = operator(f_in)\n",
    "        error = np.max(np.abs(f_out - f_in))\n",
    "        f_in = f_out\n",
    "        i += 1\n",
    "    print(f'i = {i}')\n",
    "    return f_out"
   ]
  },
  {
   "cell_type": "code",
   "execution_count": 100,
   "metadata": {},
   "outputs": [],
   "source": [
    "v_E = np.empty((n_size, y_grid_size))"
   ]
  },
  {
   "cell_type": "code",
   "execution_count": 101,
   "metadata": {},
   "outputs": [
    {
     "name": "stdout",
     "output_type": "stream",
     "text": [
      "i = 1\n",
      "i = 7\n",
      "i = 101\n",
      "i = 76\n",
      "i = 15\n",
      "i = 2\n",
      "i = 2\n",
      "i = 2\n",
      "i = 2\n"
     ]
    }
   ],
   "source": [
    "n = n_max\n",
    "while n >= 0:\n",
    "    operator = build_bellman_operator(v_E, n)\n",
    "    f_out = iterate(operator)\n",
    "    v_E[n, :] = f_out\n",
    "    n = n - 1"
   ]
  },
  {
   "cell_type": "code",
   "execution_count": 102,
   "metadata": {},
   "outputs": [
    {
     "data": {
      "image/png": "[encoded data removed]",
      "text/plain": [
       "<matplotlib.figure.Figure at 0x7f1ebc989c50>"
      ]
     },
     "metadata": {},
     "output_type": "display_data"
    }
   ],
   "source": [
    "fig, ax = plt.subplots()\n",
    "for n in range(n_size):\n",
    "    ax.plot(y_grid, v_E[n, :], label=f'$n = {n}$')\n",
    "ax.legend()\n",
    "plt.show()"
   ]
  },
  {
   "cell_type": "code",
   "execution_count": 103,
   "metadata": {},
   "outputs": [
    {
     "data": {
      "image/png": "[encoded data removed]",
      "text/plain": [
       "<matplotlib.figure.Figure at 0x7f1eab065da0>"
      ]
     },
     "metadata": {},
     "output_type": "display_data"
    }
   ],
   "source": [
    "fig, ax = plt.subplots()\n",
    "for n in range(n_size):\n",
    "    ax.plot(y_grid, ϕ(n, y_grid), label=f'$\\\\phi({n}, \\cdot)$')\n",
    "ax.legend()\n",
    "plt.show()"
   ]
  },
  {
   "cell_type": "markdown",
   "metadata": {},
   "source": [
    "Next let's build $\\alpha_E$"
   ]
  },
  {
   "cell_type": "code",
   "execution_count": 104,
   "metadata": {},
   "outputs": [],
   "source": [
    "α_E = np.zeros((n_size, y_grid_size), dtype=np.int)\n",
    "for n in range(n_size):\n",
    "    for i, y in enumerate(y_grid):\n",
    "        if interp1d(y_grid, v_E[n, :], y) > ϕ(n, y):\n",
    "            α_E[n, i] = 1"
   ]
  },
  {
   "cell_type": "code",
   "execution_count": 105,
   "metadata": {},
   "outputs": [
    {
     "data": {
      "text/plain": [
       "array([[1, 1, 1, 1, 1, 1, 1, 1, 1, 1],\n",
       "       [1, 1, 1, 1, 1, 1, 1, 1, 1, 1],\n",
       "       [1, 1, 1, 1, 1, 1, 1, 1, 1, 1],\n",
       "       [1, 1, 1, 1, 1, 1, 1, 1, 1, 1],\n",
       "       [1, 1, 1, 1, 1, 1, 1, 1, 1, 1],\n",
       "       [0, 1, 1, 1, 1, 1, 1, 1, 1, 1],\n",
       "       [0, 0, 0, 0, 0, 1, 1, 1, 1, 1],\n",
       "       [0, 0, 0, 0, 0, 0, 0, 0, 0, 0],\n",
       "       [0, 0, 0, 0, 0, 0, 0, 0, 0, 0]])"
      ]
     },
     "execution_count": 105,
     "metadata": {},
     "output_type": "execute_result"
    }
   ],
   "source": [
    "α_E"
   ]
  },
  {
   "cell_type": "markdown",
   "metadata": {},
   "source": [
    "Now let's build $v_S$"
   ]
  },
  {
   "cell_type": "code",
   "execution_count": 106,
   "metadata": {},
   "outputs": [],
   "source": [
    "v_S = np.empty((n_size, y_grid_size))\n",
    "for n in range(n_size):\n",
    "    for i, y in enumerate(y_grid):\n",
    "        t = 0.0\n",
    "        for ξ in ξ_draws:\n",
    "            yp = ρ * y + b + ξ\n",
    "            t += π(n, yp) + interp1d(y_grid, v_E[μ(n, y, v_E), :], yp)\n",
    "        v_S[n, i] = t / mc_size"
   ]
  },
  {
   "cell_type": "code",
   "execution_count": 107,
   "metadata": {},
   "outputs": [
    {
     "data": {
      "image/png": "[encoded data removed]",
      "text/plain": [
       "<matplotlib.figure.Figure at 0x7f1ebc9d4b70>"
      ]
     },
     "metadata": {},
     "output_type": "display_data"
    }
   ],
   "source": [
    "fig, ax = plt.subplots()\n",
    "for n in range(n_size):\n",
    "    ax.plot(y_grid, v_S[n, :], label=f'$n = {n}$')\n",
    "ax.legend()\n",
    "plt.show()"
   ]
  },
  {
   "cell_type": "code",
   "execution_count": null,
   "metadata": {},
   "outputs": [],
   "source": []
  }
 ],
 "metadata": {
  "kernelspec": {
   "display_name": "Python 3",
   "language": "python",
   "name": "python3"
  },
  "language_info": {
   "codemirror_mode": {
    "name": "ipython",
    "version": 3
   },
   "file_extension": ".py",
   "mimetype": "text/x-python",
   "name": "python",
   "nbconvert_exporter": "python",
   "pygments_lexer": "ipython3",
   "version": "3.6.4"
  }
 },
 "nbformat": 4,
 "nbformat_minor": 2
}
